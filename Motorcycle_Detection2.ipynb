{
 "cells": [
  {
   "cell_type": "code",
   "execution_count": 1,
   "metadata": {
    "colab": {
     "base_uri": "https://localhost:8080/"
    },
    "id": "TLcMLbH-6gNA",
    "outputId": "a5689ac5-3abe-4b88-e6a7-07efdd596086"
   },
   "outputs": [
    {
     "name": "stdout",
     "output_type": "stream",
     "text": [
      "Requirement already satisfied: roboflow in e:\\anaconda\\envs\\yolov8env\\lib\\site-packages (1.1.66)\n",
      "Requirement already satisfied: certifi in e:\\anaconda\\envs\\yolov8env\\lib\\site-packages (from roboflow) (2025.4.26)\n",
      "Requirement already satisfied: idna==3.7 in e:\\anaconda\\envs\\yolov8env\\lib\\site-packages (from roboflow) (3.7)\n",
      "Requirement already satisfied: cycler in e:\\anaconda\\envs\\yolov8env\\lib\\site-packages (from roboflow) (0.12.1)\n",
      "Requirement already satisfied: kiwisolver>=1.3.1 in e:\\anaconda\\envs\\yolov8env\\lib\\site-packages (from roboflow) (1.4.8)\n",
      "Requirement already satisfied: matplotlib in e:\\anaconda\\envs\\yolov8env\\lib\\site-packages (from roboflow) (3.10.3)\n",
      "Requirement already satisfied: numpy>=1.18.5 in e:\\anaconda\\envs\\yolov8env\\lib\\site-packages (from roboflow) (2.1.2)\n",
      "Requirement already satisfied: opencv-python-headless==4.10.0.84 in e:\\anaconda\\envs\\yolov8env\\lib\\site-packages (from roboflow) (4.10.0.84)\n",
      "Requirement already satisfied: Pillow>=7.1.2 in e:\\anaconda\\envs\\yolov8env\\lib\\site-packages (from roboflow) (11.0.0)\n",
      "Requirement already satisfied: pillow-heif>=0.18.0 in e:\\anaconda\\envs\\yolov8env\\lib\\site-packages (from roboflow) (0.22.0)\n",
      "Requirement already satisfied: python-dateutil in e:\\anaconda\\envs\\yolov8env\\lib\\site-packages (from roboflow) (2.9.0.post0)\n",
      "Requirement already satisfied: python-dotenv in e:\\anaconda\\envs\\yolov8env\\lib\\site-packages (from roboflow) (1.1.0)\n",
      "Requirement already satisfied: requests in e:\\anaconda\\envs\\yolov8env\\lib\\site-packages (from roboflow) (2.32.4)\n",
      "Requirement already satisfied: six in e:\\anaconda\\envs\\yolov8env\\lib\\site-packages (from roboflow) (1.17.0)\n",
      "Requirement already satisfied: urllib3>=1.26.6 in e:\\anaconda\\envs\\yolov8env\\lib\\site-packages (from roboflow) (2.3.0)\n",
      "Requirement already satisfied: tqdm>=4.41.0 in e:\\anaconda\\envs\\yolov8env\\lib\\site-packages (from roboflow) (4.67.1)\n",
      "Requirement already satisfied: PyYAML>=5.3.1 in e:\\anaconda\\envs\\yolov8env\\lib\\site-packages (from roboflow) (6.0.2)\n",
      "Requirement already satisfied: requests-toolbelt in e:\\anaconda\\envs\\yolov8env\\lib\\site-packages (from roboflow) (1.0.0)\n",
      "Requirement already satisfied: filetype in e:\\anaconda\\envs\\yolov8env\\lib\\site-packages (from roboflow) (1.2.0)\n",
      "Requirement already satisfied: colorama in e:\\anaconda\\envs\\yolov8env\\lib\\site-packages (from tqdm>=4.41.0->roboflow) (0.4.6)\n",
      "Requirement already satisfied: contourpy>=1.0.1 in e:\\anaconda\\envs\\yolov8env\\lib\\site-packages (from matplotlib->roboflow) (1.3.2)\n",
      "Requirement already satisfied: fonttools>=4.22.0 in e:\\anaconda\\envs\\yolov8env\\lib\\site-packages (from matplotlib->roboflow) (4.58.4)\n",
      "Requirement already satisfied: packaging>=20.0 in e:\\anaconda\\envs\\yolov8env\\lib\\site-packages (from matplotlib->roboflow) (24.2)\n",
      "Requirement already satisfied: pyparsing>=2.3.1 in e:\\anaconda\\envs\\yolov8env\\lib\\site-packages (from matplotlib->roboflow) (3.2.3)\n",
      "Requirement already satisfied: charset_normalizer<4,>=2 in e:\\anaconda\\envs\\yolov8env\\lib\\site-packages (from requests->roboflow) (3.3.2)\n",
      "loading Roboflow workspace...\n",
      "loading Roboflow project...\n"
     ]
    }
   ],
   "source": [
    "!pip install roboflow\n",
    "\n",
    "from roboflow import Roboflow\n",
    "rf = Roboflow(api_key=\"sDfIWRbiccdW3QpuRqIs\")\n",
    "project = rf.workspace(\"bethaniaworkspace\").project(\"motorcycledetection-plboa\")\n",
    "version = project.version(2)\n",
    "dataset = version.download(\"yolov8\")"
   ]
  },
  {
   "cell_type": "code",
   "execution_count": 2,
   "metadata": {
    "colab": {
     "base_uri": "https://localhost:8080/"
    },
    "id": "iWNEGQAM_Ldp",
    "outputId": "be49bb4f-dd42-45c6-c8cd-3aeac22c90ec"
   },
   "outputs": [
    {
     "name": "stdout",
     "output_type": "stream",
     "text": [
      "Dataset location: C:\\Users\\samue\\MotorcycleDetection-2\n",
      "Folders inside:\n",
      "['data.yaml', 'data1.yaml', 'merged_all', 'README.dataset.txt', 'README.roboflow.txt', 'runs', 'test', 'train', 'val', 'yolo11n.pt', 'yolov8n.pt']\n"
     ]
    }
   ],
   "source": [
    "import os\n",
    "\n",
    "print(\"Dataset location:\", dataset.location)\n",
    "print(\"Folders inside:\")\n",
    "print(os.listdir(dataset.location))"
   ]
  },
  {
   "cell_type": "code",
   "execution_count": 3,
   "metadata": {
    "colab": {
     "base_uri": "https://localhost:8080/"
    },
    "id": "SPeNdisA27pJ",
    "outputId": "cad3a5f9-84f5-4545-f3f9-c5d9786493ae"
   },
   "outputs": [
    {
     "name": "stdout",
     "output_type": "stream",
     "text": [
      "{'names': ['motorBebek', 'motorListrik', 'motorMatic', 'motorSport', 'motorTrail'], 'nc': 5, 'roboflow': {'license': 'CC BY 4.0', 'project': 'motorcycledetection-plboa', 'url': 'https://universe.roboflow.com/bethaniaworkspace/motorcycledetection-plboa/dataset/2', 'version': 2, 'workspace': 'bethaniaworkspace'}, 'test': 'test/images', 'train': 'train/images', 'val': 'val/images', 'valid': 'valid/images'}\n"
     ]
    }
   ],
   "source": [
    "import os\n",
    "import yaml\n",
    "\n",
    "# Path ke file data.yaml yang diunduh\n",
    "data_yaml_path = os.path.join(dataset.location, \"data.yaml\")\n",
    "\n",
    "# Baca isinya\n",
    "with open(data_yaml_path, \"r\") as f:\n",
    "    data = yaml.safe_load(f)\n",
    "\n",
    "print(data)\n"
   ]
  },
  {
   "cell_type": "code",
   "execution_count": 4,
   "metadata": {
    "colab": {
     "base_uri": "https://localhost:8080/"
    },
    "id": "O_z1D2mN27pJ",
    "outputId": "160e03ab-2114-40fa-ce72-cd604027fcb2"
   },
   "outputs": [
    {
     "name": "stdout",
     "output_type": "stream",
     "text": [
      "C:\\Users\\samue\\MotorcycleDetection-2\n"
     ]
    }
   ],
   "source": [
    "print(dataset.location)\n"
   ]
  },
  {
   "cell_type": "code",
   "execution_count": 5,
   "metadata": {
    "colab": {
     "base_uri": "https://localhost:8080/"
    },
    "id": "7XLKD-bq_VOF",
    "outputId": "01a65cd0-cfa9-443b-e04f-05882e8111ed"
   },
   "outputs": [
    {
     "name": "stdout",
     "output_type": "stream",
     "text": [
      "Classes from YAML: ['motorBebek', 'motorListrik', 'motorMatic', 'motorSport', 'motorTrail']\n"
     ]
    }
   ],
   "source": [
    "import yaml\n",
    "\n",
    "with open(os.path.join(dataset.location, \"data.yaml\")) as f:\n",
    "    data = yaml.safe_load(f)\n",
    "    print(\"Classes from YAML:\", data[\"names\"])"
   ]
  },
  {
   "cell_type": "code",
   "execution_count": 6,
   "metadata": {
    "colab": {
     "base_uri": "https://localhost:8080/"
    },
    "id": "-LRet1s26w9y",
    "outputId": "94e7c7b0-bfb7-402d-f253-8f438c247686"
   },
   "outputs": [
    {
     "name": "stdout",
     "output_type": "stream",
     "text": [
      "Requirement already satisfied: ultralytics in e:\\anaconda\\envs\\yolov8env\\lib\\site-packages (8.3.158)\n",
      "Requirement already satisfied: numpy>=1.23.0 in e:\\anaconda\\envs\\yolov8env\\lib\\site-packages (from ultralytics) (2.1.2)\n",
      "Requirement already satisfied: matplotlib>=3.3.0 in e:\\anaconda\\envs\\yolov8env\\lib\\site-packages (from ultralytics) (3.10.3)\n",
      "Requirement already satisfied: opencv-python>=4.6.0 in e:\\anaconda\\envs\\yolov8env\\lib\\site-packages (from ultralytics) (4.11.0.86)\n",
      "Requirement already satisfied: pillow>=7.1.2 in e:\\anaconda\\envs\\yolov8env\\lib\\site-packages (from ultralytics) (11.0.0)\n",
      "Requirement already satisfied: pyyaml>=5.3.1 in e:\\anaconda\\envs\\yolov8env\\lib\\site-packages (from ultralytics) (6.0.2)\n",
      "Requirement already satisfied: requests>=2.23.0 in e:\\anaconda\\envs\\yolov8env\\lib\\site-packages (from ultralytics) (2.32.4)\n",
      "Requirement already satisfied: scipy>=1.4.1 in e:\\anaconda\\envs\\yolov8env\\lib\\site-packages (from ultralytics) (1.15.3)\n",
      "Requirement already satisfied: torch>=1.8.0 in e:\\anaconda\\envs\\yolov8env\\lib\\site-packages (from ultralytics) (2.7.1+cu118)\n",
      "Requirement already satisfied: torchvision>=0.9.0 in e:\\anaconda\\envs\\yolov8env\\lib\\site-packages (from ultralytics) (0.22.1+cu118)\n",
      "Requirement already satisfied: tqdm>=4.64.0 in e:\\anaconda\\envs\\yolov8env\\lib\\site-packages (from ultralytics) (4.67.1)\n",
      "Requirement already satisfied: psutil in c:\\users\\samue\\appdata\\roaming\\python\\python310\\site-packages (from ultralytics) (7.0.0)\n",
      "Requirement already satisfied: py-cpuinfo in e:\\anaconda\\envs\\yolov8env\\lib\\site-packages (from ultralytics) (9.0.0)\n",
      "Requirement already satisfied: pandas>=1.1.4 in e:\\anaconda\\envs\\yolov8env\\lib\\site-packages (from ultralytics) (2.3.0)\n",
      "Requirement already satisfied: ultralytics-thop>=2.0.0 in e:\\anaconda\\envs\\yolov8env\\lib\\site-packages (from ultralytics) (2.0.14)\n",
      "Requirement already satisfied: contourpy>=1.0.1 in e:\\anaconda\\envs\\yolov8env\\lib\\site-packages (from matplotlib>=3.3.0->ultralytics) (1.3.2)\n",
      "Requirement already satisfied: cycler>=0.10 in e:\\anaconda\\envs\\yolov8env\\lib\\site-packages (from matplotlib>=3.3.0->ultralytics) (0.12.1)\n",
      "Requirement already satisfied: fonttools>=4.22.0 in e:\\anaconda\\envs\\yolov8env\\lib\\site-packages (from matplotlib>=3.3.0->ultralytics) (4.58.4)\n",
      "Requirement already satisfied: kiwisolver>=1.3.1 in e:\\anaconda\\envs\\yolov8env\\lib\\site-packages (from matplotlib>=3.3.0->ultralytics) (1.4.8)\n",
      "Requirement already satisfied: packaging>=20.0 in e:\\anaconda\\envs\\yolov8env\\lib\\site-packages (from matplotlib>=3.3.0->ultralytics) (24.2)\n",
      "Requirement already satisfied: pyparsing>=2.3.1 in e:\\anaconda\\envs\\yolov8env\\lib\\site-packages (from matplotlib>=3.3.0->ultralytics) (3.2.3)\n",
      "Requirement already satisfied: python-dateutil>=2.7 in e:\\anaconda\\envs\\yolov8env\\lib\\site-packages (from matplotlib>=3.3.0->ultralytics) (2.9.0.post0)\n",
      "Requirement already satisfied: pytz>=2020.1 in e:\\anaconda\\envs\\yolov8env\\lib\\site-packages (from pandas>=1.1.4->ultralytics) (2025.2)\n",
      "Requirement already satisfied: tzdata>=2022.7 in e:\\anaconda\\envs\\yolov8env\\lib\\site-packages (from pandas>=1.1.4->ultralytics) (2025.2)\n",
      "Requirement already satisfied: six>=1.5 in e:\\anaconda\\envs\\yolov8env\\lib\\site-packages (from python-dateutil>=2.7->matplotlib>=3.3.0->ultralytics) (1.17.0)\n",
      "Requirement already satisfied: charset_normalizer<4,>=2 in e:\\anaconda\\envs\\yolov8env\\lib\\site-packages (from requests>=2.23.0->ultralytics) (3.3.2)\n",
      "Requirement already satisfied: idna<4,>=2.5 in e:\\anaconda\\envs\\yolov8env\\lib\\site-packages (from requests>=2.23.0->ultralytics) (3.7)\n",
      "Requirement already satisfied: urllib3<3,>=1.21.1 in e:\\anaconda\\envs\\yolov8env\\lib\\site-packages (from requests>=2.23.0->ultralytics) (2.3.0)\n",
      "Requirement already satisfied: certifi>=2017.4.17 in e:\\anaconda\\envs\\yolov8env\\lib\\site-packages (from requests>=2.23.0->ultralytics) (2025.4.26)\n",
      "Requirement already satisfied: filelock in e:\\anaconda\\envs\\yolov8env\\lib\\site-packages (from torch>=1.8.0->ultralytics) (3.13.1)\n",
      "Requirement already satisfied: typing-extensions>=4.10.0 in e:\\anaconda\\envs\\yolov8env\\lib\\site-packages (from torch>=1.8.0->ultralytics) (4.12.2)\n",
      "Requirement already satisfied: sympy>=1.13.3 in e:\\anaconda\\envs\\yolov8env\\lib\\site-packages (from torch>=1.8.0->ultralytics) (1.13.3)\n",
      "Requirement already satisfied: networkx in e:\\anaconda\\envs\\yolov8env\\lib\\site-packages (from torch>=1.8.0->ultralytics) (3.3)\n",
      "Requirement already satisfied: jinja2 in e:\\anaconda\\envs\\yolov8env\\lib\\site-packages (from torch>=1.8.0->ultralytics) (3.1.4)\n",
      "Requirement already satisfied: fsspec in e:\\anaconda\\envs\\yolov8env\\lib\\site-packages (from torch>=1.8.0->ultralytics) (2024.6.1)\n",
      "Requirement already satisfied: mpmath<1.4,>=1.1.0 in e:\\anaconda\\envs\\yolov8env\\lib\\site-packages (from sympy>=1.13.3->torch>=1.8.0->ultralytics) (1.3.0)\n",
      "Requirement already satisfied: colorama in e:\\anaconda\\envs\\yolov8env\\lib\\site-packages (from tqdm>=4.64.0->ultralytics) (0.4.6)\n",
      "Requirement already satisfied: MarkupSafe>=2.0 in e:\\anaconda\\envs\\yolov8env\\lib\\site-packages (from jinja2->torch>=1.8.0->ultralytics) (2.1.5)\n",
      "Note: you may need to restart the kernel to use updated packages.\n"
     ]
    }
   ],
   "source": [
    "pip install ultralytics"
   ]
  },
  {
   "cell_type": "code",
   "execution_count": 7,
   "metadata": {},
   "outputs": [
    {
     "name": "stdout",
     "output_type": "stream",
     "text": [
      "C:\\Users\\samue\\MotorcycleDetection-2\n"
     ]
    }
   ],
   "source": [
    "path_to_project='C:/Users/samue/MotorcycleDetection-2'\n",
    "\n",
    "os.chdir(path_to_project)\n",
    "\n",
    "# Verifikasi bahwa Anda berada di direktori yang benar\n",
    "print(os.getcwd())"
   ]
  },
  {
   "cell_type": "code",
   "execution_count": 8,
   "metadata": {
    "colab": {
     "base_uri": "https://localhost:8080/"
    },
    "id": "dUTUGbGe27pK",
    "outputId": "cbc7ee6d-a028-4949-f198-56f271c8babe"
   },
   "outputs": [
    {
     "name": "stdout",
     "output_type": "stream",
     "text": [
      "\n",
      "Processing splits for dataset at: C:/Users/samue/MotorcycleDetection-2\n",
      "Checking labels directory for 'train': C:/Users/samue/MotorcycleDetection-2\\train/labels\n",
      "  Found 1052 .txt files.\n",
      "Checking labels directory for 'val': C:/Users/samue/MotorcycleDetection-2\\val/labels\n",
      "  Found 219 .txt files.\n",
      "Checking labels directory for 'test': C:/Users/samue/MotorcycleDetection-2\\test/labels\n",
      "  Found 110 .txt files.\n",
      "\n",
      "Jumlah Data Tiap Split:\n",
      "train: 1052\n",
      "val: 219\n",
      "test: 110\n"
     ]
    }
   ],
   "source": [
    "data = {\n",
    "    'train': 'train/images',\n",
    "    'val': 'val/images',\n",
    "    'test': 'test/images'\n",
    "}\n",
    "\n",
    "# Simulasikan objek 'dataset' yang memiliki atribut 'location'\n",
    "class Dataset:\n",
    "    # Corrected typo: __init__ instead of _init_\n",
    "    def __init__(self, location):\n",
    "        self.location = location\n",
    "\n",
    "# Now this line will correctly call the __init__ method\n",
    "dataset = Dataset(path_to_project)\n",
    "\n",
    "# --- Langkah 3: Jalankan Kode Anda ---\n",
    "\n",
    "splits = ['train', 'val', 'test']\n",
    "split_counts = {}\n",
    "\n",
    "print(f\"\\nProcessing splits for dataset at: {dataset.location}\")\n",
    "\n",
    "for split in splits:\n",
    "    split_path_relative = data.get(split) # Contoh: 'train/images'\n",
    "    if split_path_relative:\n",
    "        # full_path akan menjadi '/content/drive/MyDrive/CV-Thania/MotorcycleDetection-2/train/images'\n",
    "        full_path = os.path.join(dataset.location, split_path_relative)\n",
    "\n",
    "        # labels_dir akan menjadi '/content/drive/MyDrive/CV-Thania/MotorcycleDetection-2/train/labels'\n",
    "        labels_dir = full_path.replace(\"images\", \"labels\")\n",
    "\n",
    "        print(f\"Checking labels directory for '{split}': {labels_dir}\")\n",
    "\n",
    "        if os.path.exists(labels_dir):\n",
    "            # Hitung file .txt di dalam folder labels\n",
    "            num_files = len([f for f in os.listdir(labels_dir) if f.endswith(\".txt\")])\n",
    "            split_counts[split] = num_files\n",
    "            print(f\"  Found {num_files} .txt files.\")\n",
    "        else:\n",
    "            split_counts[split] = 0\n",
    "            print(f\"  Labels directory not found.\")\n",
    "    else:\n",
    "        split_counts[split] = 0\n",
    "        print(f\"  Relative path for '{split}' not found in 'data' dictionary.\")\n",
    "\n",
    "# --- Langkah 4: Cetak Hasil ---\n",
    "print(\"\\nJumlah Data Tiap Split:\")\n",
    "for split in splits:\n",
    "    print(f\"{split}: {split_counts[split]}\")"
   ]
  },
  {
   "cell_type": "code",
   "execution_count": 9,
   "metadata": {
    "colab": {
     "base_uri": "https://localhost:8080/"
    },
    "id": "8aGzMXKACKAR",
    "outputId": "945ba0e0-84d0-4030-ca43-36da9dc2d3a9"
   },
   "outputs": [
    {
     "name": "stdout",
     "output_type": "stream",
     "text": [
      "✅ Split selesai. Total: 1381 gambar | Train: 1104 | Val: 277\n"
     ]
    }
   ],
   "source": [
    "import os\n",
    "import random\n",
    "import shutil\n",
    "\n",
    "# Path asal\n",
    "image_dir = 'C:/Users/samue/MotorcycleDetection-2/merged_all/images'\n",
    "label_dir = 'C:/Users/samue/MotorcycleDetection-2/merged_all/labels'\n",
    "\n",
    "# Path tujuan (train/val)\n",
    "output_base = 'C:/Users/samue/MotorcycleDetection-2/merged_all'\n",
    "train_img_dir = os.path.join(output_base, 'images/train')\n",
    "val_img_dir = os.path.join(output_base, 'images/val')\n",
    "train_lbl_dir = os.path.join(output_base, 'labels/train')\n",
    "val_lbl_dir = os.path.join(output_base, 'labels/val')\n",
    "\n",
    "# Membuat folder jika belum ada\n",
    "os.makedirs(train_img_dir, exist_ok=True)\n",
    "os.makedirs(val_img_dir, exist_ok=True)\n",
    "os.makedirs(train_lbl_dir, exist_ok=True)\n",
    "os.makedirs(val_lbl_dir, exist_ok=True)\n",
    "\n",
    "# Ambil semua file gambar\n",
    "image_files = [f for f in os.listdir(image_dir) if f.endswith(('.jpg', '.jpeg', '.png'))]\n",
    "\n",
    "# Shuffle dan split\n",
    "random.seed(42)\n",
    "random.shuffle(image_files)\n",
    "split_ratio = 0.8\n",
    "split_idx = int(len(image_files) * split_ratio)\n",
    "\n",
    "train_files = image_files[:split_idx]\n",
    "val_files = image_files[split_idx:]\n",
    "\n",
    "# Fungsi untuk menyalin gambar dan label\n",
    "def copy_data(file_list, img_target, lbl_target):\n",
    "    for img_file in file_list:\n",
    "        label_file = os.path.splitext(img_file)[0] + '.txt'\n",
    "        img_src = os.path.join(image_dir, img_file)\n",
    "        lbl_src = os.path.join(label_dir, label_file)\n",
    "\n",
    "        img_dst = os.path.join(img_target, img_file)\n",
    "        lbl_dst = os.path.join(lbl_target, label_file)\n",
    "\n",
    "        if os.path.exists(lbl_src):\n",
    "            shutil.copy2(img_src, img_dst)\n",
    "            shutil.copy2(lbl_src, lbl_dst)\n",
    "\n",
    "# Salin file ke train dan val\n",
    "copy_data(train_files, train_img_dir, train_lbl_dir)\n",
    "copy_data(val_files, val_img_dir, val_lbl_dir)\n",
    "\n",
    "print(f\"✅ Split selesai. Total: {len(image_files)} gambar | Train: {len(train_files)} | Val: {len(val_files)}\")\n"
   ]
  },
  {
   "cell_type": "code",
   "execution_count": 10,
   "metadata": {
    "colab": {
     "base_uri": "https://localhost:8080/",
     "height": 356
    },
    "id": "cNvTseHV27pK",
    "outputId": "25ec42bc-a653-4610-ff5c-1004dbbc91bd"
   },
   "outputs": [
    {
     "name": "stdout",
     "output_type": "stream",
     "text": [
      "Skipping missing split: valid\n",
      "✅ Penggabungan Selesai\n",
      "Total Images (gabungan): 1383\n",
      "Total Labels (gabungan): 1383\n"
     ]
    }
   ],
   "source": [
    "import os, shutil\n",
    "\n",
    "# Path dasar dataset\n",
    "base_path = \"C:/Users/samue/MotorcycleDetection-2\"\n",
    "splits = [\"train\", \"valid\", \"test\"]\n",
    "merged_images_dir = os.path.join(base_path, \"merged_all\", \"images\")\n",
    "merged_labels_dir = os.path.join(base_path, \"merged_all\", \"labels\")\n",
    "\n",
    "# Buat folder gabungan jika belum ada\n",
    "os.makedirs(merged_images_dir, exist_ok=True)\n",
    "os.makedirs(merged_labels_dir, exist_ok=True)\n",
    "\n",
    "# Gabungkan semua file dari split ke merged_all\n",
    "for split in splits:\n",
    "    split_image_dir = os.path.join(base_path, split, \"images\")\n",
    "    split_label_dir = os.path.join(base_path, split, \"labels\")\n",
    "\n",
    "    if not os.path.exists(split_image_dir) or not os.path.exists(split_label_dir):\n",
    "        print(f\"Skipping missing split: {split}\")\n",
    "        continue\n",
    "\n",
    "    for img_file in os.listdir(split_image_dir):\n",
    "        src = os.path.join(split_image_dir, img_file)\n",
    "        dst = os.path.join(merged_images_dir, img_file)\n",
    "        shutil.copy2(src, dst)\n",
    "\n",
    "    for label_file in os.listdir(split_label_dir):\n",
    "        src = os.path.join(split_label_dir, label_file)\n",
    "        dst = os.path.join(merged_labels_dir, label_file)\n",
    "        shutil.copy2(src, dst)\n",
    "\n",
    "# Cek hasil\n",
    "num_images = len(os.listdir(merged_images_dir))\n",
    "num_labels = len(os.listdir(merged_labels_dir))\n",
    "\n",
    "print(\"✅ Penggabungan Selesai\")\n",
    "print(f\"Total Images (gabungan): {num_images}\")\n",
    "print(f\"Total Labels (gabungan): {num_labels}\")\n"
   ]
  },
  {
   "cell_type": "code",
   "execution_count": 11,
   "metadata": {
    "colab": {
     "base_uri": "https://localhost:8080/"
    },
    "id": "anqGR3pXmKC5",
    "outputId": "07ae2a16-fd15-47df-a399-102cd141905a"
   },
   "outputs": [],
   "source": [
    "# !cat \"/content/drive/MyDrive/Semester 8/Praktikum Computer Vision/Project UTS/MotorcycleDetection-2/data.yaml\"\n"
   ]
  },
  {
   "cell_type": "code",
   "execution_count": 12,
   "metadata": {},
   "outputs": [],
   "source": [
    "import torch\n",
    "torch.cuda.empty_cache()\n"
   ]
  },
  {
   "cell_type": "code",
   "execution_count": 13,
   "metadata": {},
   "outputs": [
    {
     "name": "stdout",
     "output_type": "stream",
     "text": [
      "CUDA Available: True\n",
      "Torch Version: 2.7.1+cu118\n",
      "TorchVision Version: 0.22.1+cu118\n",
      "Device: NVIDIA GeForce RTX 3050 Laptop GPU\n"
     ]
    }
   ],
   "source": [
    "import torch\n",
    "import torchvision\n",
    "\n",
    "print(\"CUDA Available:\", torch.cuda.is_available())\n",
    "print(\"Torch Version:\", torch.__version__)\n",
    "print(\"TorchVision Version:\", torchvision.__version__)\n",
    "print(\"Device:\", torch.cuda.get_device_name(0) if torch.cuda.is_available() else \"CPU only\")\n"
   ]
  },
  {
   "cell_type": "code",
   "execution_count": 1,
   "metadata": {},
   "outputs": [
    {
     "name": "stdout",
     "output_type": "stream",
     "text": [
      "\n",
      "--- Starting YOLO Training with Early Stopping ---\n",
      "Ultralytics 8.3.158  Python-3.10.18 torch-2.7.1+cu118 CUDA:0 (NVIDIA GeForce RTX 3050 Laptop GPU, 4096MiB)\n",
      "\u001b[34m\u001b[1mengine\\trainer: \u001b[0magnostic_nms=False, amp=True, augment=False, auto_augment=randaugment, batch=16, bgr=0.0, box=7.5, cache=False, cfg=None, classes=None, close_mosaic=10, cls=0.5, conf=None, copy_paste=0.0, copy_paste_mode=flip, cos_lr=False, cutmix=0.0, data=C:/Users/samue/MotorcycleDetection-2/data.yaml, degrees=0.0, deterministic=True, device=None, dfl=1.5, dnn=False, dropout=0.0, dynamic=False, embed=None, epochs=50, erasing=0.4, exist_ok=False, fliplr=0.5, flipud=0.0, format=torchscript, fraction=1.0, freeze=None, half=False, hsv_h=0.015, hsv_s=0.7, hsv_v=0.4, imgsz=640, int8=False, iou=0.7, keras=False, kobj=1.0, line_width=None, lr0=0.01, lrf=0.01, mask_ratio=4, max_det=300, mixup=0.0, mode=train, model=yolov8n.pt, momentum=0.937, mosaic=1.0, multi_scale=False, name=motorcycle-yolo12, nbs=64, nms=False, opset=None, optimize=False, optimizer=auto, overlap_mask=True, patience=10, perspective=0.0, plots=True, pose=12.0, pretrained=True, profile=False, project=None, rect=False, resume=False, retina_masks=False, save=True, save_conf=False, save_crop=False, save_dir=runs\\detect\\motorcycle-yolo12, save_frames=False, save_json=False, save_period=-1, save_txt=False, scale=0.5, seed=0, shear=0.0, show=False, show_boxes=True, show_conf=True, show_labels=True, simplify=True, single_cls=False, source=None, split=val, stream_buffer=False, task=detect, time=None, tracker=botsort.yaml, translate=0.1, val=True, verbose=True, vid_stride=1, visualize=False, warmup_bias_lr=0.1, warmup_epochs=3.0, warmup_momentum=0.8, weight_decay=0.0005, workers=8, workspace=None\n",
      "Overriding model.yaml nc=80 with nc=5\n",
      "\n",
      "                   from  n    params  module                                       arguments                     \n",
      "  0                  -1  1       464  ultralytics.nn.modules.conv.Conv             [3, 16, 3, 2]                 \n",
      "  1                  -1  1      4672  ultralytics.nn.modules.conv.Conv             [16, 32, 3, 2]                \n",
      "  2                  -1  1      7360  ultralytics.nn.modules.block.C2f             [32, 32, 1, True]             \n",
      "  3                  -1  1     18560  ultralytics.nn.modules.conv.Conv             [32, 64, 3, 2]                \n",
      "  4                  -1  2     49664  ultralytics.nn.modules.block.C2f             [64, 64, 2, True]             \n",
      "  5                  -1  1     73984  ultralytics.nn.modules.conv.Conv             [64, 128, 3, 2]               \n",
      "  6                  -1  2    197632  ultralytics.nn.modules.block.C2f             [128, 128, 2, True]           \n",
      "  7                  -1  1    295424  ultralytics.nn.modules.conv.Conv             [128, 256, 3, 2]              \n",
      "  8                  -1  1    460288  ultralytics.nn.modules.block.C2f             [256, 256, 1, True]           \n",
      "  9                  -1  1    164608  ultralytics.nn.modules.block.SPPF            [256, 256, 5]                 \n",
      " 10                  -1  1         0  torch.nn.modules.upsampling.Upsample         [None, 2, 'nearest']          \n",
      " 11             [-1, 6]  1         0  ultralytics.nn.modules.conv.Concat           [1]                           \n",
      " 12                  -1  1    148224  ultralytics.nn.modules.block.C2f             [384, 128, 1]                 \n",
      " 13                  -1  1         0  torch.nn.modules.upsampling.Upsample         [None, 2, 'nearest']          \n",
      " 14             [-1, 4]  1         0  ultralytics.nn.modules.conv.Concat           [1]                           \n",
      " 15                  -1  1     37248  ultralytics.nn.modules.block.C2f             [192, 64, 1]                  \n",
      " 16                  -1  1     36992  ultralytics.nn.modules.conv.Conv             [64, 64, 3, 2]                \n",
      " 17            [-1, 12]  1         0  ultralytics.nn.modules.conv.Concat           [1]                           \n",
      " 18                  -1  1    123648  ultralytics.nn.modules.block.C2f             [192, 128, 1]                 \n",
      " 19                  -1  1    147712  ultralytics.nn.modules.conv.Conv             [128, 128, 3, 2]              \n",
      " 20             [-1, 9]  1         0  ultralytics.nn.modules.conv.Concat           [1]                           \n",
      " 21                  -1  1    493056  ultralytics.nn.modules.block.C2f             [384, 256, 1]                 \n",
      " 22        [15, 18, 21]  1    752287  ultralytics.nn.modules.head.Detect           [5, [64, 128, 256]]           \n",
      "Model summary: 129 layers, 3,011,823 parameters, 3,011,807 gradients, 8.2 GFLOPs\n",
      "\n",
      "Transferred 319/355 items from pretrained weights\n",
      "Freezing layer 'model.22.dfl.conv.weight'\n",
      "\u001b[34m\u001b[1mAMP: \u001b[0mrunning Automatic Mixed Precision (AMP) checks...\n",
      "\u001b[34m\u001b[1mAMP: \u001b[0mchecks passed \n",
      "\u001b[34m\u001b[1mtrain: \u001b[0mFast image access  (ping: 0.10.0 ms, read: 72.220.6 MB/s, size: 52.4 KB)\n"
     ]
    },
    {
     "name": "stderr",
     "output_type": "stream",
     "text": [
      "\u001b[34m\u001b[1mtrain: \u001b[0mScanning C:\\Users\\samue\\MotorcycleDetection-2\\train\\labels.cache... 1052 images, 0 backgrounds, 0 corrupt: 100%|██████████| 1052/1052 [00:00<?, ?it/s]\n"
     ]
    },
    {
     "name": "stdout",
     "output_type": "stream",
     "text": [
      "\u001b[34m\u001b[1mval: \u001b[0mFast image access  (ping: 0.10.0 ms, read: 72.929.6 MB/s, size: 46.4 KB)\n"
     ]
    },
    {
     "name": "stderr",
     "output_type": "stream",
     "text": [
      "\u001b[34m\u001b[1mval: \u001b[0mScanning C:\\Users\\samue\\MotorcycleDetection-2\\val\\labels.cache... 219 images, 0 backgrounds, 0 corrupt: 100%|██████████| 219/219 [00:00<?, ?it/s]\n"
     ]
    },
    {
     "name": "stdout",
     "output_type": "stream",
     "text": [
      "Plotting labels to runs\\detect\\motorcycle-yolo12\\labels.jpg... \n",
      "\u001b[34m\u001b[1moptimizer:\u001b[0m 'optimizer=auto' found, ignoring 'lr0=0.01' and 'momentum=0.937' and determining best 'optimizer', 'lr0' and 'momentum' automatically... \n",
      "\u001b[34m\u001b[1moptimizer:\u001b[0m AdamW(lr=0.001111, momentum=0.9) with parameter groups 57 weight(decay=0.0), 64 weight(decay=0.0005), 63 bias(decay=0.0)\n",
      "Image sizes 640 train, 640 val\n",
      "Using 8 dataloader workers\n",
      "Logging results to \u001b[1mruns\\detect\\motorcycle-yolo12\u001b[0m\n",
      "Starting training for 50 epochs...\n",
      "\n",
      "      Epoch    GPU_mem   box_loss   cls_loss   dfl_loss  Instances       Size\n"
     ]
    },
    {
     "name": "stderr",
     "output_type": "stream",
     "text": [
      "       1/50         2G     0.8678      2.556      1.511         34        640: 100%|██████████| 66/66 [00:19<00:00,  3.46it/s]\n",
      "                 Class     Images  Instances      Box(P          R      mAP50  mAP50-95): 100%|██████████| 7/7 [00:02<00:00,  3.45it/s]"
     ]
    },
    {
     "name": "stdout",
     "output_type": "stream",
     "text": [
      "                   all        219        219    0.00184      0.774     0.0781     0.0513\n"
     ]
    },
    {
     "name": "stderr",
     "output_type": "stream",
     "text": [
      "\n"
     ]
    },
    {
     "name": "stdout",
     "output_type": "stream",
     "text": [
      "\n",
      "      Epoch    GPU_mem   box_loss   cls_loss   dfl_loss  Instances       Size\n"
     ]
    },
    {
     "name": "stderr",
     "output_type": "stream",
     "text": [
      "       2/50      1.95G     0.8439      1.613      1.464         40        640: 100%|██████████| 66/66 [00:13<00:00,  4.80it/s]\n",
      "                 Class     Images  Instances      Box(P          R      mAP50  mAP50-95): 100%|██████████| 7/7 [00:01<00:00,  3.57it/s]"
     ]
    },
    {
     "name": "stdout",
     "output_type": "stream",
     "text": [
      "                   all        219        219      0.675      0.333     0.0493      0.022\n"
     ]
    },
    {
     "name": "stderr",
     "output_type": "stream",
     "text": [
      "\n"
     ]
    },
    {
     "name": "stdout",
     "output_type": "stream",
     "text": [
      "\n",
      "      Epoch    GPU_mem   box_loss   cls_loss   dfl_loss  Instances       Size\n"
     ]
    },
    {
     "name": "stderr",
     "output_type": "stream",
     "text": [
      "       3/50      1.96G      0.845      1.399      1.453         36        640: 100%|██████████| 66/66 [00:13<00:00,  4.73it/s]\n",
      "                 Class     Images  Instances      Box(P          R      mAP50  mAP50-95): 100%|██████████| 7/7 [00:01<00:00,  3.94it/s]"
     ]
    },
    {
     "name": "stdout",
     "output_type": "stream",
     "text": [
      "                   all        219        219      0.668      0.333    0.00446     0.0021\n"
     ]
    },
    {
     "name": "stderr",
     "output_type": "stream",
     "text": [
      "\n"
     ]
    },
    {
     "name": "stdout",
     "output_type": "stream",
     "text": [
      "\n",
      "      Epoch    GPU_mem   box_loss   cls_loss   dfl_loss  Instances       Size\n"
     ]
    },
    {
     "name": "stderr",
     "output_type": "stream",
     "text": [
      "       4/50      1.98G     0.8461      1.276      1.456         31        640: 100%|██████████| 66/66 [00:13<00:00,  4.83it/s]\n",
      "                 Class     Images  Instances      Box(P          R      mAP50  mAP50-95): 100%|██████████| 7/7 [00:02<00:00,  3.28it/s]"
     ]
    },
    {
     "name": "stdout",
     "output_type": "stream",
     "text": [
      "                   all        219        219    0.00175      0.231    0.00572    0.00154\n"
     ]
    },
    {
     "name": "stderr",
     "output_type": "stream",
     "text": [
      "\n"
     ]
    },
    {
     "name": "stdout",
     "output_type": "stream",
     "text": [
      "\n",
      "      Epoch    GPU_mem   box_loss   cls_loss   dfl_loss  Instances       Size\n"
     ]
    },
    {
     "name": "stderr",
     "output_type": "stream",
     "text": [
      "       5/50         2G     0.8069      1.178      1.429         28        640: 100%|██████████| 66/66 [00:13<00:00,  4.92it/s]\n",
      "                 Class     Images  Instances      Box(P          R      mAP50  mAP50-95): 100%|██████████| 7/7 [00:01<00:00,  3.83it/s]"
     ]
    },
    {
     "name": "stdout",
     "output_type": "stream",
     "text": [
      "                   all        219        219    0.00605      0.856     0.0421     0.0214\n"
     ]
    },
    {
     "name": "stderr",
     "output_type": "stream",
     "text": [
      "\n"
     ]
    },
    {
     "name": "stdout",
     "output_type": "stream",
     "text": [
      "\n",
      "      Epoch    GPU_mem   box_loss   cls_loss   dfl_loss  Instances       Size\n"
     ]
    },
    {
     "name": "stderr",
     "output_type": "stream",
     "text": [
      "       6/50      2.01G     0.7817       1.07      1.404         31        640: 100%|██████████| 66/66 [00:13<00:00,  4.86it/s]\n",
      "                 Class     Images  Instances      Box(P          R      mAP50  mAP50-95): 100%|██████████| 7/7 [00:01<00:00,  3.77it/s]"
     ]
    },
    {
     "name": "stdout",
     "output_type": "stream",
     "text": [
      "                   all        219        219      0.683      0.333     0.0292     0.0225\n"
     ]
    },
    {
     "name": "stderr",
     "output_type": "stream",
     "text": [
      "\n"
     ]
    },
    {
     "name": "stdout",
     "output_type": "stream",
     "text": [
      "\n",
      "      Epoch    GPU_mem   box_loss   cls_loss   dfl_loss  Instances       Size\n"
     ]
    },
    {
     "name": "stderr",
     "output_type": "stream",
     "text": [
      "       7/50      1.94G      0.782      1.025      1.391         37        640: 100%|██████████| 66/66 [00:13<00:00,  4.90it/s]\n",
      "                 Class     Images  Instances      Box(P          R      mAP50  mAP50-95): 100%|██████████| 7/7 [00:01<00:00,  4.03it/s]"
     ]
    },
    {
     "name": "stdout",
     "output_type": "stream",
     "text": [
      "                   all        219        219      0.675      0.333     0.0377     0.0217\n"
     ]
    },
    {
     "name": "stderr",
     "output_type": "stream",
     "text": [
      "\n"
     ]
    },
    {
     "name": "stdout",
     "output_type": "stream",
     "text": [
      "\n",
      "      Epoch    GPU_mem   box_loss   cls_loss   dfl_loss  Instances       Size\n"
     ]
    },
    {
     "name": "stderr",
     "output_type": "stream",
     "text": [
      "       8/50      1.94G     0.7326     0.9575      1.361         36        640: 100%|██████████| 66/66 [00:13<00:00,  4.96it/s]\n",
      "                 Class     Images  Instances      Box(P          R      mAP50  mAP50-95): 100%|██████████| 7/7 [00:01<00:00,  3.80it/s]"
     ]
    },
    {
     "name": "stdout",
     "output_type": "stream",
     "text": [
      "                   all        219        219     0.0456      0.471     0.0522      0.034\n"
     ]
    },
    {
     "name": "stderr",
     "output_type": "stream",
     "text": [
      "\n"
     ]
    },
    {
     "name": "stdout",
     "output_type": "stream",
     "text": [
      "\n",
      "      Epoch    GPU_mem   box_loss   cls_loss   dfl_loss  Instances       Size\n"
     ]
    },
    {
     "name": "stderr",
     "output_type": "stream",
     "text": [
      "       9/50      1.96G     0.7258      0.924      1.348         36        640: 100%|██████████| 66/66 [00:13<00:00,  4.95it/s]\n",
      "                 Class     Images  Instances      Box(P          R      mAP50  mAP50-95): 100%|██████████| 7/7 [00:01<00:00,  3.83it/s]"
     ]
    },
    {
     "name": "stdout",
     "output_type": "stream",
     "text": [
      "                   all        219        219     0.0565       0.37     0.0435      0.025\n"
     ]
    },
    {
     "name": "stderr",
     "output_type": "stream",
     "text": [
      "\n"
     ]
    },
    {
     "name": "stdout",
     "output_type": "stream",
     "text": [
      "\n",
      "      Epoch    GPU_mem   box_loss   cls_loss   dfl_loss  Instances       Size\n"
     ]
    },
    {
     "name": "stderr",
     "output_type": "stream",
     "text": [
      "      10/50      1.97G     0.7365     0.8857      1.365         41        640: 100%|██████████| 66/66 [00:13<00:00,  4.92it/s]\n",
      "                 Class     Images  Instances      Box(P          R      mAP50  mAP50-95): 100%|██████████| 7/7 [00:01<00:00,  3.94it/s]"
     ]
    },
    {
     "name": "stdout",
     "output_type": "stream",
     "text": [
      "                   all        219        219      0.675      0.333     0.0104    0.00829\n"
     ]
    },
    {
     "name": "stderr",
     "output_type": "stream",
     "text": [
      "\n"
     ]
    },
    {
     "name": "stdout",
     "output_type": "stream",
     "text": [
      "\n",
      "      Epoch    GPU_mem   box_loss   cls_loss   dfl_loss  Instances       Size\n"
     ]
    },
    {
     "name": "stderr",
     "output_type": "stream",
     "text": [
      "      11/50      1.99G     0.6751     0.8344      1.319         33        640: 100%|██████████| 66/66 [00:13<00:00,  4.96it/s]\n",
      "                 Class     Images  Instances      Box(P          R      mAP50  mAP50-95): 100%|██████████| 7/7 [00:01<00:00,  4.10it/s]"
     ]
    },
    {
     "name": "stdout",
     "output_type": "stream",
     "text": [
      "                   all        219        219      0.676      0.333     0.0166     0.0133\n",
      "\u001b[34m\u001b[1mEarlyStopping: \u001b[0mTraining stopped early as no improvement observed in last 10 epochs. Best results observed at epoch 1, best model saved as best.pt.\n",
      "To update EarlyStopping(patience=10) pass a new patience value, i.e. `patience=300` or use `patience=0` to disable EarlyStopping.\n"
     ]
    },
    {
     "name": "stderr",
     "output_type": "stream",
     "text": [
      "\n"
     ]
    },
    {
     "name": "stdout",
     "output_type": "stream",
     "text": [
      "\n",
      "11 epochs completed in 0.050 hours.\n",
      "Optimizer stripped from runs\\detect\\motorcycle-yolo12\\weights\\last.pt, 6.2MB\n",
      "Optimizer stripped from runs\\detect\\motorcycle-yolo12\\weights\\best.pt, 6.2MB\n",
      "\n",
      "Validating runs\\detect\\motorcycle-yolo12\\weights\\best.pt...\n",
      "Ultralytics 8.3.158  Python-3.10.18 torch-2.7.1+cu118 CUDA:0 (NVIDIA GeForce RTX 3050 Laptop GPU, 4096MiB)\n",
      "Model summary (fused): 72 layers, 3,006,623 parameters, 0 gradients, 8.1 GFLOPs\n"
     ]
    },
    {
     "name": "stderr",
     "output_type": "stream",
     "text": [
      "                 Class     Images  Instances      Box(P          R      mAP50  mAP50-95): 100%|██████████| 7/7 [00:02<00:00,  2.89it/s]\n"
     ]
    },
    {
     "name": "stdout",
     "output_type": "stream",
     "text": [
      "                   all        219        219    0.00185      0.777     0.0783     0.0511\n",
      "            motorBebek        110        110    0.00203      0.627    0.00171   0.000365\n",
      "          motorListrik          1          1   0.000709          1    0.00716    0.00369\n",
      "            motorMatic        108        108    0.00282      0.704      0.226      0.149\n",
      "Speed: 0.4ms preprocess, 3.2ms inference, 0.0ms loss, 2.5ms postprocess per image\n",
      "Results saved to \u001b[1mruns\\detect\\motorcycle-yolo12\u001b[0m\n"
     ]
    },
    {
     "data": {
      "text/plain": [
       "ultralytics.utils.metrics.DetMetrics object with attributes:\n",
       "\n",
       "ap_class_index: array([0, 1, 2])\n",
       "box: ultralytics.utils.metrics.Metric object\n",
       "confusion_matrix: <ultralytics.utils.metrics.ConfusionMatrix object at 0x00000253145CB8E0>\n",
       "curves: ['Precision-Recall(B)', 'F1-Confidence(B)', 'Precision-Confidence(B)', 'Recall-Confidence(B)']\n",
       "curves_results: [[array([          0,    0.001001,    0.002002,    0.003003,    0.004004,    0.005005,    0.006006,    0.007007,    0.008008,    0.009009,     0.01001,    0.011011,    0.012012,    0.013013,    0.014014,    0.015015,    0.016016,    0.017017,    0.018018,    0.019019,     0.02002,    0.021021,    0.022022,    0.023023,\n",
       "          0.024024,    0.025025,    0.026026,    0.027027,    0.028028,    0.029029,     0.03003,    0.031031,    0.032032,    0.033033,    0.034034,    0.035035,    0.036036,    0.037037,    0.038038,    0.039039,     0.04004,    0.041041,    0.042042,    0.043043,    0.044044,    0.045045,    0.046046,    0.047047,\n",
       "          0.048048,    0.049049,     0.05005,    0.051051,    0.052052,    0.053053,    0.054054,    0.055055,    0.056056,    0.057057,    0.058058,    0.059059,     0.06006,    0.061061,    0.062062,    0.063063,    0.064064,    0.065065,    0.066066,    0.067067,    0.068068,    0.069069,     0.07007,    0.071071,\n",
       "          0.072072,    0.073073,    0.074074,    0.075075,    0.076076,    0.077077,    0.078078,    0.079079,     0.08008,    0.081081,    0.082082,    0.083083,    0.084084,    0.085085,    0.086086,    0.087087,    0.088088,    0.089089,     0.09009,    0.091091,    0.092092,    0.093093,    0.094094,    0.095095,\n",
       "          0.096096,    0.097097,    0.098098,    0.099099,      0.1001,      0.1011,      0.1021,      0.1031,      0.1041,     0.10511,     0.10611,     0.10711,     0.10811,     0.10911,     0.11011,     0.11111,     0.11211,     0.11311,     0.11411,     0.11512,     0.11612,     0.11712,     0.11812,     0.11912,\n",
       "           0.12012,     0.12112,     0.12212,     0.12312,     0.12412,     0.12513,     0.12613,     0.12713,     0.12813,     0.12913,     0.13013,     0.13113,     0.13213,     0.13313,     0.13413,     0.13514,     0.13614,     0.13714,     0.13814,     0.13914,     0.14014,     0.14114,     0.14214,     0.14314,\n",
       "           0.14414,     0.14515,     0.14615,     0.14715,     0.14815,     0.14915,     0.15015,     0.15115,     0.15215,     0.15315,     0.15415,     0.15516,     0.15616,     0.15716,     0.15816,     0.15916,     0.16016,     0.16116,     0.16216,     0.16316,     0.16416,     0.16517,     0.16617,     0.16717,\n",
       "           0.16817,     0.16917,     0.17017,     0.17117,     0.17217,     0.17317,     0.17417,     0.17518,     0.17618,     0.17718,     0.17818,     0.17918,     0.18018,     0.18118,     0.18218,     0.18318,     0.18418,     0.18519,     0.18619,     0.18719,     0.18819,     0.18919,     0.19019,     0.19119,\n",
       "           0.19219,     0.19319,     0.19419,      0.1952,      0.1962,      0.1972,      0.1982,      0.1992,      0.2002,      0.2012,      0.2022,      0.2032,      0.2042,     0.20521,     0.20621,     0.20721,     0.20821,     0.20921,     0.21021,     0.21121,     0.21221,     0.21321,     0.21421,     0.21522,\n",
       "           0.21622,     0.21722,     0.21822,     0.21922,     0.22022,     0.22122,     0.22222,     0.22322,     0.22422,     0.22523,     0.22623,     0.22723,     0.22823,     0.22923,     0.23023,     0.23123,     0.23223,     0.23323,     0.23423,     0.23524,     0.23624,     0.23724,     0.23824,     0.23924,\n",
       "           0.24024,     0.24124,     0.24224,     0.24324,     0.24424,     0.24525,     0.24625,     0.24725,     0.24825,     0.24925,     0.25025,     0.25125,     0.25225,     0.25325,     0.25425,     0.25526,     0.25626,     0.25726,     0.25826,     0.25926,     0.26026,     0.26126,     0.26226,     0.26326,\n",
       "           0.26426,     0.26527,     0.26627,     0.26727,     0.26827,     0.26927,     0.27027,     0.27127,     0.27227,     0.27327,     0.27427,     0.27528,     0.27628,     0.27728,     0.27828,     0.27928,     0.28028,     0.28128,     0.28228,     0.28328,     0.28428,     0.28529,     0.28629,     0.28729,\n",
       "           0.28829,     0.28929,     0.29029,     0.29129,     0.29229,     0.29329,     0.29429,      0.2953,      0.2963,      0.2973,      0.2983,      0.2993,      0.3003,      0.3013,      0.3023,      0.3033,      0.3043,     0.30531,     0.30631,     0.30731,     0.30831,     0.30931,     0.31031,     0.31131,\n",
       "           0.31231,     0.31331,     0.31431,     0.31532,     0.31632,     0.31732,     0.31832,     0.31932,     0.32032,     0.32132,     0.32232,     0.32332,     0.32432,     0.32533,     0.32633,     0.32733,     0.32833,     0.32933,     0.33033,     0.33133,     0.33233,     0.33333,     0.33433,     0.33534,\n",
       "           0.33634,     0.33734,     0.33834,     0.33934,     0.34034,     0.34134,     0.34234,     0.34334,     0.34434,     0.34535,     0.34635,     0.34735,     0.34835,     0.34935,     0.35035,     0.35135,     0.35235,     0.35335,     0.35435,     0.35536,     0.35636,     0.35736,     0.35836,     0.35936,\n",
       "           0.36036,     0.36136,     0.36236,     0.36336,     0.36436,     0.36537,     0.36637,     0.36737,     0.36837,     0.36937,     0.37037,     0.37137,     0.37237,     0.37337,     0.37437,     0.37538,     0.37638,     0.37738,     0.37838,     0.37938,     0.38038,     0.38138,     0.38238,     0.38338,\n",
       "           0.38438,     0.38539,     0.38639,     0.38739,     0.38839,     0.38939,     0.39039,     0.39139,     0.39239,     0.39339,     0.39439,      0.3954,      0.3964,      0.3974,      0.3984,      0.3994,      0.4004,      0.4014,      0.4024,      0.4034,      0.4044,     0.40541,     0.40641,     0.40741,\n",
       "           0.40841,     0.40941,     0.41041,     0.41141,     0.41241,     0.41341,     0.41441,     0.41542,     0.41642,     0.41742,     0.41842,     0.41942,     0.42042,     0.42142,     0.42242,     0.42342,     0.42442,     0.42543,     0.42643,     0.42743,     0.42843,     0.42943,     0.43043,     0.43143,\n",
       "           0.43243,     0.43343,     0.43443,     0.43544,     0.43644,     0.43744,     0.43844,     0.43944,     0.44044,     0.44144,     0.44244,     0.44344,     0.44444,     0.44545,     0.44645,     0.44745,     0.44845,     0.44945,     0.45045,     0.45145,     0.45245,     0.45345,     0.45445,     0.45546,\n",
       "           0.45646,     0.45746,     0.45846,     0.45946,     0.46046,     0.46146,     0.46246,     0.46346,     0.46446,     0.46547,     0.46647,     0.46747,     0.46847,     0.46947,     0.47047,     0.47147,     0.47247,     0.47347,     0.47447,     0.47548,     0.47648,     0.47748,     0.47848,     0.47948,\n",
       "           0.48048,     0.48148,     0.48248,     0.48348,     0.48448,     0.48549,     0.48649,     0.48749,     0.48849,     0.48949,     0.49049,     0.49149,     0.49249,     0.49349,     0.49449,      0.4955,      0.4965,      0.4975,      0.4985,      0.4995,      0.5005,      0.5015,      0.5025,      0.5035,\n",
       "            0.5045,     0.50551,     0.50651,     0.50751,     0.50851,     0.50951,     0.51051,     0.51151,     0.51251,     0.51351,     0.51451,     0.51552,     0.51652,     0.51752,     0.51852,     0.51952,     0.52052,     0.52152,     0.52252,     0.52352,     0.52452,     0.52553,     0.52653,     0.52753,\n",
       "           0.52853,     0.52953,     0.53053,     0.53153,     0.53253,     0.53353,     0.53453,     0.53554,     0.53654,     0.53754,     0.53854,     0.53954,     0.54054,     0.54154,     0.54254,     0.54354,     0.54454,     0.54555,     0.54655,     0.54755,     0.54855,     0.54955,     0.55055,     0.55155,\n",
       "           0.55255,     0.55355,     0.55455,     0.55556,     0.55656,     0.55756,     0.55856,     0.55956,     0.56056,     0.56156,     0.56256,     0.56356,     0.56456,     0.56557,     0.56657,     0.56757,     0.56857,     0.56957,     0.57057,     0.57157,     0.57257,     0.57357,     0.57457,     0.57558,\n",
       "           0.57658,     0.57758,     0.57858,     0.57958,     0.58058,     0.58158,     0.58258,     0.58358,     0.58458,     0.58559,     0.58659,     0.58759,     0.58859,     0.58959,     0.59059,     0.59159,     0.59259,     0.59359,     0.59459,      0.5956,      0.5966,      0.5976,      0.5986,      0.5996,\n",
       "            0.6006,      0.6016,      0.6026,      0.6036,      0.6046,     0.60561,     0.60661,     0.60761,     0.60861,     0.60961,     0.61061,     0.61161,     0.61261,     0.61361,     0.61461,     0.61562,     0.61662,     0.61762,     0.61862,     0.61962,     0.62062,     0.62162,     0.62262,     0.62362,\n",
       "           0.62462,     0.62563,     0.62663,     0.62763,     0.62863,     0.62963,     0.63063,     0.63163,     0.63263,     0.63363,     0.63463,     0.63564,     0.63664,     0.63764,     0.63864,     0.63964,     0.64064,     0.64164,     0.64264,     0.64364,     0.64464,     0.64565,     0.64665,     0.64765,\n",
       "           0.64865,     0.64965,     0.65065,     0.65165,     0.65265,     0.65365,     0.65465,     0.65566,     0.65666,     0.65766,     0.65866,     0.65966,     0.66066,     0.66166,     0.66266,     0.66366,     0.66466,     0.66567,     0.66667,     0.66767,     0.66867,     0.66967,     0.67067,     0.67167,\n",
       "           0.67267,     0.67367,     0.67467,     0.67568,     0.67668,     0.67768,     0.67868,     0.67968,     0.68068,     0.68168,     0.68268,     0.68368,     0.68468,     0.68569,     0.68669,     0.68769,     0.68869,     0.68969,     0.69069,     0.69169,     0.69269,     0.69369,     0.69469,      0.6957,\n",
       "            0.6967,      0.6977,      0.6987,      0.6997,      0.7007,      0.7017,      0.7027,      0.7037,      0.7047,     0.70571,     0.70671,     0.70771,     0.70871,     0.70971,     0.71071,     0.71171,     0.71271,     0.71371,     0.71471,     0.71572,     0.71672,     0.71772,     0.71872,     0.71972,\n",
       "           0.72072,     0.72172,     0.72272,     0.72372,     0.72472,     0.72573,     0.72673,     0.72773,     0.72873,     0.72973,     0.73073,     0.73173,     0.73273,     0.73373,     0.73473,     0.73574,     0.73674,     0.73774,     0.73874,     0.73974,     0.74074,     0.74174,     0.74274,     0.74374,\n",
       "           0.74474,     0.74575,     0.74675,     0.74775,     0.74875,     0.74975,     0.75075,     0.75175,     0.75275,     0.75375,     0.75475,     0.75576,     0.75676,     0.75776,     0.75876,     0.75976,     0.76076,     0.76176,     0.76276,     0.76376,     0.76476,     0.76577,     0.76677,     0.76777,\n",
       "           0.76877,     0.76977,     0.77077,     0.77177,     0.77277,     0.77377,     0.77477,     0.77578,     0.77678,     0.77778,     0.77878,     0.77978,     0.78078,     0.78178,     0.78278,     0.78378,     0.78478,     0.78579,     0.78679,     0.78779,     0.78879,     0.78979,     0.79079,     0.79179,\n",
       "           0.79279,     0.79379,     0.79479,      0.7958,      0.7968,      0.7978,      0.7988,      0.7998,      0.8008,      0.8018,      0.8028,      0.8038,      0.8048,     0.80581,     0.80681,     0.80781,     0.80881,     0.80981,     0.81081,     0.81181,     0.81281,     0.81381,     0.81481,     0.81582,\n",
       "           0.81682,     0.81782,     0.81882,     0.81982,     0.82082,     0.82182,     0.82282,     0.82382,     0.82482,     0.82583,     0.82683,     0.82783,     0.82883,     0.82983,     0.83083,     0.83183,     0.83283,     0.83383,     0.83483,     0.83584,     0.83684,     0.83784,     0.83884,     0.83984,\n",
       "           0.84084,     0.84184,     0.84284,     0.84384,     0.84484,     0.84585,     0.84685,     0.84785,     0.84885,     0.84985,     0.85085,     0.85185,     0.85285,     0.85385,     0.85485,     0.85586,     0.85686,     0.85786,     0.85886,     0.85986,     0.86086,     0.86186,     0.86286,     0.86386,\n",
       "           0.86486,     0.86587,     0.86687,     0.86787,     0.86887,     0.86987,     0.87087,     0.87187,     0.87287,     0.87387,     0.87487,     0.87588,     0.87688,     0.87788,     0.87888,     0.87988,     0.88088,     0.88188,     0.88288,     0.88388,     0.88488,     0.88589,     0.88689,     0.88789,\n",
       "           0.88889,     0.88989,     0.89089,     0.89189,     0.89289,     0.89389,     0.89489,      0.8959,      0.8969,      0.8979,      0.8989,      0.8999,      0.9009,      0.9019,      0.9029,      0.9039,      0.9049,     0.90591,     0.90691,     0.90791,     0.90891,     0.90991,     0.91091,     0.91191,\n",
       "           0.91291,     0.91391,     0.91491,     0.91592,     0.91692,     0.91792,     0.91892,     0.91992,     0.92092,     0.92192,     0.92292,     0.92392,     0.92492,     0.92593,     0.92693,     0.92793,     0.92893,     0.92993,     0.93093,     0.93193,     0.93293,     0.93393,     0.93493,     0.93594,\n",
       "           0.93694,     0.93794,     0.93894,     0.93994,     0.94094,     0.94194,     0.94294,     0.94394,     0.94494,     0.94595,     0.94695,     0.94795,     0.94895,     0.94995,     0.95095,     0.95195,     0.95295,     0.95395,     0.95495,     0.95596,     0.95696,     0.95796,     0.95896,     0.95996,\n",
       "           0.96096,     0.96196,     0.96296,     0.96396,     0.96496,     0.96597,     0.96697,     0.96797,     0.96897,     0.96997,     0.97097,     0.97197,     0.97297,     0.97397,     0.97497,     0.97598,     0.97698,     0.97798,     0.97898,     0.97998,     0.98098,     0.98198,     0.98298,     0.98398,\n",
       "           0.98498,     0.98599,     0.98699,     0.98799,     0.98899,     0.98999,     0.99099,     0.99199,     0.99299,     0.99399,     0.99499,       0.996,       0.997,       0.998,       0.999,           1]), array([[  0.0021301,   0.0021301,   0.0021301, ...,  1.0912e-05,  5.4558e-06,           0],\n",
       "       [  0.0071942,   0.0071942,   0.0071942, ...,   0.0071942,   0.0071942,           0],\n",
       "       [        0.5,         0.5,         0.5, ...,  1.9063e-05,  9.5314e-06,           0]]), 'Recall', 'Precision'], [array([          0,    0.001001,    0.002002,    0.003003,    0.004004,    0.005005,    0.006006,    0.007007,    0.008008,    0.009009,     0.01001,    0.011011,    0.012012,    0.013013,    0.014014,    0.015015,    0.016016,    0.017017,    0.018018,    0.019019,     0.02002,    0.021021,    0.022022,    0.023023,\n",
       "          0.024024,    0.025025,    0.026026,    0.027027,    0.028028,    0.029029,     0.03003,    0.031031,    0.032032,    0.033033,    0.034034,    0.035035,    0.036036,    0.037037,    0.038038,    0.039039,     0.04004,    0.041041,    0.042042,    0.043043,    0.044044,    0.045045,    0.046046,    0.047047,\n",
       "          0.048048,    0.049049,     0.05005,    0.051051,    0.052052,    0.053053,    0.054054,    0.055055,    0.056056,    0.057057,    0.058058,    0.059059,     0.06006,    0.061061,    0.062062,    0.063063,    0.064064,    0.065065,    0.066066,    0.067067,    0.068068,    0.069069,     0.07007,    0.071071,\n",
       "          0.072072,    0.073073,    0.074074,    0.075075,    0.076076,    0.077077,    0.078078,    0.079079,     0.08008,    0.081081,    0.082082,    0.083083,    0.084084,    0.085085,    0.086086,    0.087087,    0.088088,    0.089089,     0.09009,    0.091091,    0.092092,    0.093093,    0.094094,    0.095095,\n",
       "          0.096096,    0.097097,    0.098098,    0.099099,      0.1001,      0.1011,      0.1021,      0.1031,      0.1041,     0.10511,     0.10611,     0.10711,     0.10811,     0.10911,     0.11011,     0.11111,     0.11211,     0.11311,     0.11411,     0.11512,     0.11612,     0.11712,     0.11812,     0.11912,\n",
       "           0.12012,     0.12112,     0.12212,     0.12312,     0.12412,     0.12513,     0.12613,     0.12713,     0.12813,     0.12913,     0.13013,     0.13113,     0.13213,     0.13313,     0.13413,     0.13514,     0.13614,     0.13714,     0.13814,     0.13914,     0.14014,     0.14114,     0.14214,     0.14314,\n",
       "           0.14414,     0.14515,     0.14615,     0.14715,     0.14815,     0.14915,     0.15015,     0.15115,     0.15215,     0.15315,     0.15415,     0.15516,     0.15616,     0.15716,     0.15816,     0.15916,     0.16016,     0.16116,     0.16216,     0.16316,     0.16416,     0.16517,     0.16617,     0.16717,\n",
       "           0.16817,     0.16917,     0.17017,     0.17117,     0.17217,     0.17317,     0.17417,     0.17518,     0.17618,     0.17718,     0.17818,     0.17918,     0.18018,     0.18118,     0.18218,     0.18318,     0.18418,     0.18519,     0.18619,     0.18719,     0.18819,     0.18919,     0.19019,     0.19119,\n",
       "           0.19219,     0.19319,     0.19419,      0.1952,      0.1962,      0.1972,      0.1982,      0.1992,      0.2002,      0.2012,      0.2022,      0.2032,      0.2042,     0.20521,     0.20621,     0.20721,     0.20821,     0.20921,     0.21021,     0.21121,     0.21221,     0.21321,     0.21421,     0.21522,\n",
       "           0.21622,     0.21722,     0.21822,     0.21922,     0.22022,     0.22122,     0.22222,     0.22322,     0.22422,     0.22523,     0.22623,     0.22723,     0.22823,     0.22923,     0.23023,     0.23123,     0.23223,     0.23323,     0.23423,     0.23524,     0.23624,     0.23724,     0.23824,     0.23924,\n",
       "           0.24024,     0.24124,     0.24224,     0.24324,     0.24424,     0.24525,     0.24625,     0.24725,     0.24825,     0.24925,     0.25025,     0.25125,     0.25225,     0.25325,     0.25425,     0.25526,     0.25626,     0.25726,     0.25826,     0.25926,     0.26026,     0.26126,     0.26226,     0.26326,\n",
       "           0.26426,     0.26527,     0.26627,     0.26727,     0.26827,     0.26927,     0.27027,     0.27127,     0.27227,     0.27327,     0.27427,     0.27528,     0.27628,     0.27728,     0.27828,     0.27928,     0.28028,     0.28128,     0.28228,     0.28328,     0.28428,     0.28529,     0.28629,     0.28729,\n",
       "           0.28829,     0.28929,     0.29029,     0.29129,     0.29229,     0.29329,     0.29429,      0.2953,      0.2963,      0.2973,      0.2983,      0.2993,      0.3003,      0.3013,      0.3023,      0.3033,      0.3043,     0.30531,     0.30631,     0.30731,     0.30831,     0.30931,     0.31031,     0.31131,\n",
       "           0.31231,     0.31331,     0.31431,     0.31532,     0.31632,     0.31732,     0.31832,     0.31932,     0.32032,     0.32132,     0.32232,     0.32332,     0.32432,     0.32533,     0.32633,     0.32733,     0.32833,     0.32933,     0.33033,     0.33133,     0.33233,     0.33333,     0.33433,     0.33534,\n",
       "           0.33634,     0.33734,     0.33834,     0.33934,     0.34034,     0.34134,     0.34234,     0.34334,     0.34434,     0.34535,     0.34635,     0.34735,     0.34835,     0.34935,     0.35035,     0.35135,     0.35235,     0.35335,     0.35435,     0.35536,     0.35636,     0.35736,     0.35836,     0.35936,\n",
       "           0.36036,     0.36136,     0.36236,     0.36336,     0.36436,     0.36537,     0.36637,     0.36737,     0.36837,     0.36937,     0.37037,     0.37137,     0.37237,     0.37337,     0.37437,     0.37538,     0.37638,     0.37738,     0.37838,     0.37938,     0.38038,     0.38138,     0.38238,     0.38338,\n",
       "           0.38438,     0.38539,     0.38639,     0.38739,     0.38839,     0.38939,     0.39039,     0.39139,     0.39239,     0.39339,     0.39439,      0.3954,      0.3964,      0.3974,      0.3984,      0.3994,      0.4004,      0.4014,      0.4024,      0.4034,      0.4044,     0.40541,     0.40641,     0.40741,\n",
       "           0.40841,     0.40941,     0.41041,     0.41141,     0.41241,     0.41341,     0.41441,     0.41542,     0.41642,     0.41742,     0.41842,     0.41942,     0.42042,     0.42142,     0.42242,     0.42342,     0.42442,     0.42543,     0.42643,     0.42743,     0.42843,     0.42943,     0.43043,     0.43143,\n",
       "           0.43243,     0.43343,     0.43443,     0.43544,     0.43644,     0.43744,     0.43844,     0.43944,     0.44044,     0.44144,     0.44244,     0.44344,     0.44444,     0.44545,     0.44645,     0.44745,     0.44845,     0.44945,     0.45045,     0.45145,     0.45245,     0.45345,     0.45445,     0.45546,\n",
       "           0.45646,     0.45746,     0.45846,     0.45946,     0.46046,     0.46146,     0.46246,     0.46346,     0.46446,     0.46547,     0.46647,     0.46747,     0.46847,     0.46947,     0.47047,     0.47147,     0.47247,     0.47347,     0.47447,     0.47548,     0.47648,     0.47748,     0.47848,     0.47948,\n",
       "           0.48048,     0.48148,     0.48248,     0.48348,     0.48448,     0.48549,     0.48649,     0.48749,     0.48849,     0.48949,     0.49049,     0.49149,     0.49249,     0.49349,     0.49449,      0.4955,      0.4965,      0.4975,      0.4985,      0.4995,      0.5005,      0.5015,      0.5025,      0.5035,\n",
       "            0.5045,     0.50551,     0.50651,     0.50751,     0.50851,     0.50951,     0.51051,     0.51151,     0.51251,     0.51351,     0.51451,     0.51552,     0.51652,     0.51752,     0.51852,     0.51952,     0.52052,     0.52152,     0.52252,     0.52352,     0.52452,     0.52553,     0.52653,     0.52753,\n",
       "           0.52853,     0.52953,     0.53053,     0.53153,     0.53253,     0.53353,     0.53453,     0.53554,     0.53654,     0.53754,     0.53854,     0.53954,     0.54054,     0.54154,     0.54254,     0.54354,     0.54454,     0.54555,     0.54655,     0.54755,     0.54855,     0.54955,     0.55055,     0.55155,\n",
       "           0.55255,     0.55355,     0.55455,     0.55556,     0.55656,     0.55756,     0.55856,     0.55956,     0.56056,     0.56156,     0.56256,     0.56356,     0.56456,     0.56557,     0.56657,     0.56757,     0.56857,     0.56957,     0.57057,     0.57157,     0.57257,     0.57357,     0.57457,     0.57558,\n",
       "           0.57658,     0.57758,     0.57858,     0.57958,     0.58058,     0.58158,     0.58258,     0.58358,     0.58458,     0.58559,     0.58659,     0.58759,     0.58859,     0.58959,     0.59059,     0.59159,     0.59259,     0.59359,     0.59459,      0.5956,      0.5966,      0.5976,      0.5986,      0.5996,\n",
       "            0.6006,      0.6016,      0.6026,      0.6036,      0.6046,     0.60561,     0.60661,     0.60761,     0.60861,     0.60961,     0.61061,     0.61161,     0.61261,     0.61361,     0.61461,     0.61562,     0.61662,     0.61762,     0.61862,     0.61962,     0.62062,     0.62162,     0.62262,     0.62362,\n",
       "           0.62462,     0.62563,     0.62663,     0.62763,     0.62863,     0.62963,     0.63063,     0.63163,     0.63263,     0.63363,     0.63463,     0.63564,     0.63664,     0.63764,     0.63864,     0.63964,     0.64064,     0.64164,     0.64264,     0.64364,     0.64464,     0.64565,     0.64665,     0.64765,\n",
       "           0.64865,     0.64965,     0.65065,     0.65165,     0.65265,     0.65365,     0.65465,     0.65566,     0.65666,     0.65766,     0.65866,     0.65966,     0.66066,     0.66166,     0.66266,     0.66366,     0.66466,     0.66567,     0.66667,     0.66767,     0.66867,     0.66967,     0.67067,     0.67167,\n",
       "           0.67267,     0.67367,     0.67467,     0.67568,     0.67668,     0.67768,     0.67868,     0.67968,     0.68068,     0.68168,     0.68268,     0.68368,     0.68468,     0.68569,     0.68669,     0.68769,     0.68869,     0.68969,     0.69069,     0.69169,     0.69269,     0.69369,     0.69469,      0.6957,\n",
       "            0.6967,      0.6977,      0.6987,      0.6997,      0.7007,      0.7017,      0.7027,      0.7037,      0.7047,     0.70571,     0.70671,     0.70771,     0.70871,     0.70971,     0.71071,     0.71171,     0.71271,     0.71371,     0.71471,     0.71572,     0.71672,     0.71772,     0.71872,     0.71972,\n",
       "           0.72072,     0.72172,     0.72272,     0.72372,     0.72472,     0.72573,     0.72673,     0.72773,     0.72873,     0.72973,     0.73073,     0.73173,     0.73273,     0.73373,     0.73473,     0.73574,     0.73674,     0.73774,     0.73874,     0.73974,     0.74074,     0.74174,     0.74274,     0.74374,\n",
       "           0.74474,     0.74575,     0.74675,     0.74775,     0.74875,     0.74975,     0.75075,     0.75175,     0.75275,     0.75375,     0.75475,     0.75576,     0.75676,     0.75776,     0.75876,     0.75976,     0.76076,     0.76176,     0.76276,     0.76376,     0.76476,     0.76577,     0.76677,     0.76777,\n",
       "           0.76877,     0.76977,     0.77077,     0.77177,     0.77277,     0.77377,     0.77477,     0.77578,     0.77678,     0.77778,     0.77878,     0.77978,     0.78078,     0.78178,     0.78278,     0.78378,     0.78478,     0.78579,     0.78679,     0.78779,     0.78879,     0.78979,     0.79079,     0.79179,\n",
       "           0.79279,     0.79379,     0.79479,      0.7958,      0.7968,      0.7978,      0.7988,      0.7998,      0.8008,      0.8018,      0.8028,      0.8038,      0.8048,     0.80581,     0.80681,     0.80781,     0.80881,     0.80981,     0.81081,     0.81181,     0.81281,     0.81381,     0.81481,     0.81582,\n",
       "           0.81682,     0.81782,     0.81882,     0.81982,     0.82082,     0.82182,     0.82282,     0.82382,     0.82482,     0.82583,     0.82683,     0.82783,     0.82883,     0.82983,     0.83083,     0.83183,     0.83283,     0.83383,     0.83483,     0.83584,     0.83684,     0.83784,     0.83884,     0.83984,\n",
       "           0.84084,     0.84184,     0.84284,     0.84384,     0.84484,     0.84585,     0.84685,     0.84785,     0.84885,     0.84985,     0.85085,     0.85185,     0.85285,     0.85385,     0.85485,     0.85586,     0.85686,     0.85786,     0.85886,     0.85986,     0.86086,     0.86186,     0.86286,     0.86386,\n",
       "           0.86486,     0.86587,     0.86687,     0.86787,     0.86887,     0.86987,     0.87087,     0.87187,     0.87287,     0.87387,     0.87487,     0.87588,     0.87688,     0.87788,     0.87888,     0.87988,     0.88088,     0.88188,     0.88288,     0.88388,     0.88488,     0.88589,     0.88689,     0.88789,\n",
       "           0.88889,     0.88989,     0.89089,     0.89189,     0.89289,     0.89389,     0.89489,      0.8959,      0.8969,      0.8979,      0.8989,      0.8999,      0.9009,      0.9019,      0.9029,      0.9039,      0.9049,     0.90591,     0.90691,     0.90791,     0.90891,     0.90991,     0.91091,     0.91191,\n",
       "           0.91291,     0.91391,     0.91491,     0.91592,     0.91692,     0.91792,     0.91892,     0.91992,     0.92092,     0.92192,     0.92292,     0.92392,     0.92492,     0.92593,     0.92693,     0.92793,     0.92893,     0.92993,     0.93093,     0.93193,     0.93293,     0.93393,     0.93493,     0.93594,\n",
       "           0.93694,     0.93794,     0.93894,     0.93994,     0.94094,     0.94194,     0.94294,     0.94394,     0.94494,     0.94595,     0.94695,     0.94795,     0.94895,     0.94995,     0.95095,     0.95195,     0.95295,     0.95395,     0.95495,     0.95596,     0.95696,     0.95796,     0.95896,     0.95996,\n",
       "           0.96096,     0.96196,     0.96296,     0.96396,     0.96496,     0.96597,     0.96697,     0.96797,     0.96897,     0.96997,     0.97097,     0.97197,     0.97297,     0.97397,     0.97497,     0.97598,     0.97698,     0.97798,     0.97898,     0.97998,     0.98098,     0.98198,     0.98298,     0.98398,\n",
       "           0.98498,     0.98599,     0.98699,     0.98799,     0.98899,     0.98999,     0.99099,     0.99199,     0.99299,     0.99399,     0.99499,       0.996,       0.997,       0.998,       0.999,           1]), array([[  0.0040499,   0.0040499,   0.0040499, ...,           0,           0,           0],\n",
       "       [  0.0014164,   0.0014164,   0.0014164, ...,           0,           0,           0],\n",
       "       [  0.0056201,   0.0056201,   0.0056201, ...,           0,           0,           0]]), 'Confidence', 'F1'], [array([          0,    0.001001,    0.002002,    0.003003,    0.004004,    0.005005,    0.006006,    0.007007,    0.008008,    0.009009,     0.01001,    0.011011,    0.012012,    0.013013,    0.014014,    0.015015,    0.016016,    0.017017,    0.018018,    0.019019,     0.02002,    0.021021,    0.022022,    0.023023,\n",
       "          0.024024,    0.025025,    0.026026,    0.027027,    0.028028,    0.029029,     0.03003,    0.031031,    0.032032,    0.033033,    0.034034,    0.035035,    0.036036,    0.037037,    0.038038,    0.039039,     0.04004,    0.041041,    0.042042,    0.043043,    0.044044,    0.045045,    0.046046,    0.047047,\n",
       "          0.048048,    0.049049,     0.05005,    0.051051,    0.052052,    0.053053,    0.054054,    0.055055,    0.056056,    0.057057,    0.058058,    0.059059,     0.06006,    0.061061,    0.062062,    0.063063,    0.064064,    0.065065,    0.066066,    0.067067,    0.068068,    0.069069,     0.07007,    0.071071,\n",
       "          0.072072,    0.073073,    0.074074,    0.075075,    0.076076,    0.077077,    0.078078,    0.079079,     0.08008,    0.081081,    0.082082,    0.083083,    0.084084,    0.085085,    0.086086,    0.087087,    0.088088,    0.089089,     0.09009,    0.091091,    0.092092,    0.093093,    0.094094,    0.095095,\n",
       "          0.096096,    0.097097,    0.098098,    0.099099,      0.1001,      0.1011,      0.1021,      0.1031,      0.1041,     0.10511,     0.10611,     0.10711,     0.10811,     0.10911,     0.11011,     0.11111,     0.11211,     0.11311,     0.11411,     0.11512,     0.11612,     0.11712,     0.11812,     0.11912,\n",
       "           0.12012,     0.12112,     0.12212,     0.12312,     0.12412,     0.12513,     0.12613,     0.12713,     0.12813,     0.12913,     0.13013,     0.13113,     0.13213,     0.13313,     0.13413,     0.13514,     0.13614,     0.13714,     0.13814,     0.13914,     0.14014,     0.14114,     0.14214,     0.14314,\n",
       "           0.14414,     0.14515,     0.14615,     0.14715,     0.14815,     0.14915,     0.15015,     0.15115,     0.15215,     0.15315,     0.15415,     0.15516,     0.15616,     0.15716,     0.15816,     0.15916,     0.16016,     0.16116,     0.16216,     0.16316,     0.16416,     0.16517,     0.16617,     0.16717,\n",
       "           0.16817,     0.16917,     0.17017,     0.17117,     0.17217,     0.17317,     0.17417,     0.17518,     0.17618,     0.17718,     0.17818,     0.17918,     0.18018,     0.18118,     0.18218,     0.18318,     0.18418,     0.18519,     0.18619,     0.18719,     0.18819,     0.18919,     0.19019,     0.19119,\n",
       "           0.19219,     0.19319,     0.19419,      0.1952,      0.1962,      0.1972,      0.1982,      0.1992,      0.2002,      0.2012,      0.2022,      0.2032,      0.2042,     0.20521,     0.20621,     0.20721,     0.20821,     0.20921,     0.21021,     0.21121,     0.21221,     0.21321,     0.21421,     0.21522,\n",
       "           0.21622,     0.21722,     0.21822,     0.21922,     0.22022,     0.22122,     0.22222,     0.22322,     0.22422,     0.22523,     0.22623,     0.22723,     0.22823,     0.22923,     0.23023,     0.23123,     0.23223,     0.23323,     0.23423,     0.23524,     0.23624,     0.23724,     0.23824,     0.23924,\n",
       "           0.24024,     0.24124,     0.24224,     0.24324,     0.24424,     0.24525,     0.24625,     0.24725,     0.24825,     0.24925,     0.25025,     0.25125,     0.25225,     0.25325,     0.25425,     0.25526,     0.25626,     0.25726,     0.25826,     0.25926,     0.26026,     0.26126,     0.26226,     0.26326,\n",
       "           0.26426,     0.26527,     0.26627,     0.26727,     0.26827,     0.26927,     0.27027,     0.27127,     0.27227,     0.27327,     0.27427,     0.27528,     0.27628,     0.27728,     0.27828,     0.27928,     0.28028,     0.28128,     0.28228,     0.28328,     0.28428,     0.28529,     0.28629,     0.28729,\n",
       "           0.28829,     0.28929,     0.29029,     0.29129,     0.29229,     0.29329,     0.29429,      0.2953,      0.2963,      0.2973,      0.2983,      0.2993,      0.3003,      0.3013,      0.3023,      0.3033,      0.3043,     0.30531,     0.30631,     0.30731,     0.30831,     0.30931,     0.31031,     0.31131,\n",
       "           0.31231,     0.31331,     0.31431,     0.31532,     0.31632,     0.31732,     0.31832,     0.31932,     0.32032,     0.32132,     0.32232,     0.32332,     0.32432,     0.32533,     0.32633,     0.32733,     0.32833,     0.32933,     0.33033,     0.33133,     0.33233,     0.33333,     0.33433,     0.33534,\n",
       "           0.33634,     0.33734,     0.33834,     0.33934,     0.34034,     0.34134,     0.34234,     0.34334,     0.34434,     0.34535,     0.34635,     0.34735,     0.34835,     0.34935,     0.35035,     0.35135,     0.35235,     0.35335,     0.35435,     0.35536,     0.35636,     0.35736,     0.35836,     0.35936,\n",
       "           0.36036,     0.36136,     0.36236,     0.36336,     0.36436,     0.36537,     0.36637,     0.36737,     0.36837,     0.36937,     0.37037,     0.37137,     0.37237,     0.37337,     0.37437,     0.37538,     0.37638,     0.37738,     0.37838,     0.37938,     0.38038,     0.38138,     0.38238,     0.38338,\n",
       "           0.38438,     0.38539,     0.38639,     0.38739,     0.38839,     0.38939,     0.39039,     0.39139,     0.39239,     0.39339,     0.39439,      0.3954,      0.3964,      0.3974,      0.3984,      0.3994,      0.4004,      0.4014,      0.4024,      0.4034,      0.4044,     0.40541,     0.40641,     0.40741,\n",
       "           0.40841,     0.40941,     0.41041,     0.41141,     0.41241,     0.41341,     0.41441,     0.41542,     0.41642,     0.41742,     0.41842,     0.41942,     0.42042,     0.42142,     0.42242,     0.42342,     0.42442,     0.42543,     0.42643,     0.42743,     0.42843,     0.42943,     0.43043,     0.43143,\n",
       "           0.43243,     0.43343,     0.43443,     0.43544,     0.43644,     0.43744,     0.43844,     0.43944,     0.44044,     0.44144,     0.44244,     0.44344,     0.44444,     0.44545,     0.44645,     0.44745,     0.44845,     0.44945,     0.45045,     0.45145,     0.45245,     0.45345,     0.45445,     0.45546,\n",
       "           0.45646,     0.45746,     0.45846,     0.45946,     0.46046,     0.46146,     0.46246,     0.46346,     0.46446,     0.46547,     0.46647,     0.46747,     0.46847,     0.46947,     0.47047,     0.47147,     0.47247,     0.47347,     0.47447,     0.47548,     0.47648,     0.47748,     0.47848,     0.47948,\n",
       "           0.48048,     0.48148,     0.48248,     0.48348,     0.48448,     0.48549,     0.48649,     0.48749,     0.48849,     0.48949,     0.49049,     0.49149,     0.49249,     0.49349,     0.49449,      0.4955,      0.4965,      0.4975,      0.4985,      0.4995,      0.5005,      0.5015,      0.5025,      0.5035,\n",
       "            0.5045,     0.50551,     0.50651,     0.50751,     0.50851,     0.50951,     0.51051,     0.51151,     0.51251,     0.51351,     0.51451,     0.51552,     0.51652,     0.51752,     0.51852,     0.51952,     0.52052,     0.52152,     0.52252,     0.52352,     0.52452,     0.52553,     0.52653,     0.52753,\n",
       "           0.52853,     0.52953,     0.53053,     0.53153,     0.53253,     0.53353,     0.53453,     0.53554,     0.53654,     0.53754,     0.53854,     0.53954,     0.54054,     0.54154,     0.54254,     0.54354,     0.54454,     0.54555,     0.54655,     0.54755,     0.54855,     0.54955,     0.55055,     0.55155,\n",
       "           0.55255,     0.55355,     0.55455,     0.55556,     0.55656,     0.55756,     0.55856,     0.55956,     0.56056,     0.56156,     0.56256,     0.56356,     0.56456,     0.56557,     0.56657,     0.56757,     0.56857,     0.56957,     0.57057,     0.57157,     0.57257,     0.57357,     0.57457,     0.57558,\n",
       "           0.57658,     0.57758,     0.57858,     0.57958,     0.58058,     0.58158,     0.58258,     0.58358,     0.58458,     0.58559,     0.58659,     0.58759,     0.58859,     0.58959,     0.59059,     0.59159,     0.59259,     0.59359,     0.59459,      0.5956,      0.5966,      0.5976,      0.5986,      0.5996,\n",
       "            0.6006,      0.6016,      0.6026,      0.6036,      0.6046,     0.60561,     0.60661,     0.60761,     0.60861,     0.60961,     0.61061,     0.61161,     0.61261,     0.61361,     0.61461,     0.61562,     0.61662,     0.61762,     0.61862,     0.61962,     0.62062,     0.62162,     0.62262,     0.62362,\n",
       "           0.62462,     0.62563,     0.62663,     0.62763,     0.62863,     0.62963,     0.63063,     0.63163,     0.63263,     0.63363,     0.63463,     0.63564,     0.63664,     0.63764,     0.63864,     0.63964,     0.64064,     0.64164,     0.64264,     0.64364,     0.64464,     0.64565,     0.64665,     0.64765,\n",
       "           0.64865,     0.64965,     0.65065,     0.65165,     0.65265,     0.65365,     0.65465,     0.65566,     0.65666,     0.65766,     0.65866,     0.65966,     0.66066,     0.66166,     0.66266,     0.66366,     0.66466,     0.66567,     0.66667,     0.66767,     0.66867,     0.66967,     0.67067,     0.67167,\n",
       "           0.67267,     0.67367,     0.67467,     0.67568,     0.67668,     0.67768,     0.67868,     0.67968,     0.68068,     0.68168,     0.68268,     0.68368,     0.68468,     0.68569,     0.68669,     0.68769,     0.68869,     0.68969,     0.69069,     0.69169,     0.69269,     0.69369,     0.69469,      0.6957,\n",
       "            0.6967,      0.6977,      0.6987,      0.6997,      0.7007,      0.7017,      0.7027,      0.7037,      0.7047,     0.70571,     0.70671,     0.70771,     0.70871,     0.70971,     0.71071,     0.71171,     0.71271,     0.71371,     0.71471,     0.71572,     0.71672,     0.71772,     0.71872,     0.71972,\n",
       "           0.72072,     0.72172,     0.72272,     0.72372,     0.72472,     0.72573,     0.72673,     0.72773,     0.72873,     0.72973,     0.73073,     0.73173,     0.73273,     0.73373,     0.73473,     0.73574,     0.73674,     0.73774,     0.73874,     0.73974,     0.74074,     0.74174,     0.74274,     0.74374,\n",
       "           0.74474,     0.74575,     0.74675,     0.74775,     0.74875,     0.74975,     0.75075,     0.75175,     0.75275,     0.75375,     0.75475,     0.75576,     0.75676,     0.75776,     0.75876,     0.75976,     0.76076,     0.76176,     0.76276,     0.76376,     0.76476,     0.76577,     0.76677,     0.76777,\n",
       "           0.76877,     0.76977,     0.77077,     0.77177,     0.77277,     0.77377,     0.77477,     0.77578,     0.77678,     0.77778,     0.77878,     0.77978,     0.78078,     0.78178,     0.78278,     0.78378,     0.78478,     0.78579,     0.78679,     0.78779,     0.78879,     0.78979,     0.79079,     0.79179,\n",
       "           0.79279,     0.79379,     0.79479,      0.7958,      0.7968,      0.7978,      0.7988,      0.7998,      0.8008,      0.8018,      0.8028,      0.8038,      0.8048,     0.80581,     0.80681,     0.80781,     0.80881,     0.80981,     0.81081,     0.81181,     0.81281,     0.81381,     0.81481,     0.81582,\n",
       "           0.81682,     0.81782,     0.81882,     0.81982,     0.82082,     0.82182,     0.82282,     0.82382,     0.82482,     0.82583,     0.82683,     0.82783,     0.82883,     0.82983,     0.83083,     0.83183,     0.83283,     0.83383,     0.83483,     0.83584,     0.83684,     0.83784,     0.83884,     0.83984,\n",
       "           0.84084,     0.84184,     0.84284,     0.84384,     0.84484,     0.84585,     0.84685,     0.84785,     0.84885,     0.84985,     0.85085,     0.85185,     0.85285,     0.85385,     0.85485,     0.85586,     0.85686,     0.85786,     0.85886,     0.85986,     0.86086,     0.86186,     0.86286,     0.86386,\n",
       "           0.86486,     0.86587,     0.86687,     0.86787,     0.86887,     0.86987,     0.87087,     0.87187,     0.87287,     0.87387,     0.87487,     0.87588,     0.87688,     0.87788,     0.87888,     0.87988,     0.88088,     0.88188,     0.88288,     0.88388,     0.88488,     0.88589,     0.88689,     0.88789,\n",
       "           0.88889,     0.88989,     0.89089,     0.89189,     0.89289,     0.89389,     0.89489,      0.8959,      0.8969,      0.8979,      0.8989,      0.8999,      0.9009,      0.9019,      0.9029,      0.9039,      0.9049,     0.90591,     0.90691,     0.90791,     0.90891,     0.90991,     0.91091,     0.91191,\n",
       "           0.91291,     0.91391,     0.91491,     0.91592,     0.91692,     0.91792,     0.91892,     0.91992,     0.92092,     0.92192,     0.92292,     0.92392,     0.92492,     0.92593,     0.92693,     0.92793,     0.92893,     0.92993,     0.93093,     0.93193,     0.93293,     0.93393,     0.93493,     0.93594,\n",
       "           0.93694,     0.93794,     0.93894,     0.93994,     0.94094,     0.94194,     0.94294,     0.94394,     0.94494,     0.94595,     0.94695,     0.94795,     0.94895,     0.94995,     0.95095,     0.95195,     0.95295,     0.95395,     0.95495,     0.95596,     0.95696,     0.95796,     0.95896,     0.95996,\n",
       "           0.96096,     0.96196,     0.96296,     0.96396,     0.96496,     0.96597,     0.96697,     0.96797,     0.96897,     0.96997,     0.97097,     0.97197,     0.97297,     0.97397,     0.97497,     0.97598,     0.97698,     0.97798,     0.97898,     0.97998,     0.98098,     0.98198,     0.98298,     0.98398,\n",
       "           0.98498,     0.98599,     0.98699,     0.98799,     0.98899,     0.98999,     0.99099,     0.99199,     0.99299,     0.99399,     0.99499,       0.996,       0.997,       0.998,       0.999,           1]), array([[  0.0020315,   0.0020315,   0.0020315, ...,           1,           1,           1],\n",
       "       [ 0.00070872,  0.00070872,  0.00070872, ...,           1,           1,           1],\n",
       "       [  0.0028213,   0.0028213,   0.0028213, ...,           1,           1,           1]]), 'Confidence', 'Precision'], [array([          0,    0.001001,    0.002002,    0.003003,    0.004004,    0.005005,    0.006006,    0.007007,    0.008008,    0.009009,     0.01001,    0.011011,    0.012012,    0.013013,    0.014014,    0.015015,    0.016016,    0.017017,    0.018018,    0.019019,     0.02002,    0.021021,    0.022022,    0.023023,\n",
       "          0.024024,    0.025025,    0.026026,    0.027027,    0.028028,    0.029029,     0.03003,    0.031031,    0.032032,    0.033033,    0.034034,    0.035035,    0.036036,    0.037037,    0.038038,    0.039039,     0.04004,    0.041041,    0.042042,    0.043043,    0.044044,    0.045045,    0.046046,    0.047047,\n",
       "          0.048048,    0.049049,     0.05005,    0.051051,    0.052052,    0.053053,    0.054054,    0.055055,    0.056056,    0.057057,    0.058058,    0.059059,     0.06006,    0.061061,    0.062062,    0.063063,    0.064064,    0.065065,    0.066066,    0.067067,    0.068068,    0.069069,     0.07007,    0.071071,\n",
       "          0.072072,    0.073073,    0.074074,    0.075075,    0.076076,    0.077077,    0.078078,    0.079079,     0.08008,    0.081081,    0.082082,    0.083083,    0.084084,    0.085085,    0.086086,    0.087087,    0.088088,    0.089089,     0.09009,    0.091091,    0.092092,    0.093093,    0.094094,    0.095095,\n",
       "          0.096096,    0.097097,    0.098098,    0.099099,      0.1001,      0.1011,      0.1021,      0.1031,      0.1041,     0.10511,     0.10611,     0.10711,     0.10811,     0.10911,     0.11011,     0.11111,     0.11211,     0.11311,     0.11411,     0.11512,     0.11612,     0.11712,     0.11812,     0.11912,\n",
       "           0.12012,     0.12112,     0.12212,     0.12312,     0.12412,     0.12513,     0.12613,     0.12713,     0.12813,     0.12913,     0.13013,     0.13113,     0.13213,     0.13313,     0.13413,     0.13514,     0.13614,     0.13714,     0.13814,     0.13914,     0.14014,     0.14114,     0.14214,     0.14314,\n",
       "           0.14414,     0.14515,     0.14615,     0.14715,     0.14815,     0.14915,     0.15015,     0.15115,     0.15215,     0.15315,     0.15415,     0.15516,     0.15616,     0.15716,     0.15816,     0.15916,     0.16016,     0.16116,     0.16216,     0.16316,     0.16416,     0.16517,     0.16617,     0.16717,\n",
       "           0.16817,     0.16917,     0.17017,     0.17117,     0.17217,     0.17317,     0.17417,     0.17518,     0.17618,     0.17718,     0.17818,     0.17918,     0.18018,     0.18118,     0.18218,     0.18318,     0.18418,     0.18519,     0.18619,     0.18719,     0.18819,     0.18919,     0.19019,     0.19119,\n",
       "           0.19219,     0.19319,     0.19419,      0.1952,      0.1962,      0.1972,      0.1982,      0.1992,      0.2002,      0.2012,      0.2022,      0.2032,      0.2042,     0.20521,     0.20621,     0.20721,     0.20821,     0.20921,     0.21021,     0.21121,     0.21221,     0.21321,     0.21421,     0.21522,\n",
       "           0.21622,     0.21722,     0.21822,     0.21922,     0.22022,     0.22122,     0.22222,     0.22322,     0.22422,     0.22523,     0.22623,     0.22723,     0.22823,     0.22923,     0.23023,     0.23123,     0.23223,     0.23323,     0.23423,     0.23524,     0.23624,     0.23724,     0.23824,     0.23924,\n",
       "           0.24024,     0.24124,     0.24224,     0.24324,     0.24424,     0.24525,     0.24625,     0.24725,     0.24825,     0.24925,     0.25025,     0.25125,     0.25225,     0.25325,     0.25425,     0.25526,     0.25626,     0.25726,     0.25826,     0.25926,     0.26026,     0.26126,     0.26226,     0.26326,\n",
       "           0.26426,     0.26527,     0.26627,     0.26727,     0.26827,     0.26927,     0.27027,     0.27127,     0.27227,     0.27327,     0.27427,     0.27528,     0.27628,     0.27728,     0.27828,     0.27928,     0.28028,     0.28128,     0.28228,     0.28328,     0.28428,     0.28529,     0.28629,     0.28729,\n",
       "           0.28829,     0.28929,     0.29029,     0.29129,     0.29229,     0.29329,     0.29429,      0.2953,      0.2963,      0.2973,      0.2983,      0.2993,      0.3003,      0.3013,      0.3023,      0.3033,      0.3043,     0.30531,     0.30631,     0.30731,     0.30831,     0.30931,     0.31031,     0.31131,\n",
       "           0.31231,     0.31331,     0.31431,     0.31532,     0.31632,     0.31732,     0.31832,     0.31932,     0.32032,     0.32132,     0.32232,     0.32332,     0.32432,     0.32533,     0.32633,     0.32733,     0.32833,     0.32933,     0.33033,     0.33133,     0.33233,     0.33333,     0.33433,     0.33534,\n",
       "           0.33634,     0.33734,     0.33834,     0.33934,     0.34034,     0.34134,     0.34234,     0.34334,     0.34434,     0.34535,     0.34635,     0.34735,     0.34835,     0.34935,     0.35035,     0.35135,     0.35235,     0.35335,     0.35435,     0.35536,     0.35636,     0.35736,     0.35836,     0.35936,\n",
       "           0.36036,     0.36136,     0.36236,     0.36336,     0.36436,     0.36537,     0.36637,     0.36737,     0.36837,     0.36937,     0.37037,     0.37137,     0.37237,     0.37337,     0.37437,     0.37538,     0.37638,     0.37738,     0.37838,     0.37938,     0.38038,     0.38138,     0.38238,     0.38338,\n",
       "           0.38438,     0.38539,     0.38639,     0.38739,     0.38839,     0.38939,     0.39039,     0.39139,     0.39239,     0.39339,     0.39439,      0.3954,      0.3964,      0.3974,      0.3984,      0.3994,      0.4004,      0.4014,      0.4024,      0.4034,      0.4044,     0.40541,     0.40641,     0.40741,\n",
       "           0.40841,     0.40941,     0.41041,     0.41141,     0.41241,     0.41341,     0.41441,     0.41542,     0.41642,     0.41742,     0.41842,     0.41942,     0.42042,     0.42142,     0.42242,     0.42342,     0.42442,     0.42543,     0.42643,     0.42743,     0.42843,     0.42943,     0.43043,     0.43143,\n",
       "           0.43243,     0.43343,     0.43443,     0.43544,     0.43644,     0.43744,     0.43844,     0.43944,     0.44044,     0.44144,     0.44244,     0.44344,     0.44444,     0.44545,     0.44645,     0.44745,     0.44845,     0.44945,     0.45045,     0.45145,     0.45245,     0.45345,     0.45445,     0.45546,\n",
       "           0.45646,     0.45746,     0.45846,     0.45946,     0.46046,     0.46146,     0.46246,     0.46346,     0.46446,     0.46547,     0.46647,     0.46747,     0.46847,     0.46947,     0.47047,     0.47147,     0.47247,     0.47347,     0.47447,     0.47548,     0.47648,     0.47748,     0.47848,     0.47948,\n",
       "           0.48048,     0.48148,     0.48248,     0.48348,     0.48448,     0.48549,     0.48649,     0.48749,     0.48849,     0.48949,     0.49049,     0.49149,     0.49249,     0.49349,     0.49449,      0.4955,      0.4965,      0.4975,      0.4985,      0.4995,      0.5005,      0.5015,      0.5025,      0.5035,\n",
       "            0.5045,     0.50551,     0.50651,     0.50751,     0.50851,     0.50951,     0.51051,     0.51151,     0.51251,     0.51351,     0.51451,     0.51552,     0.51652,     0.51752,     0.51852,     0.51952,     0.52052,     0.52152,     0.52252,     0.52352,     0.52452,     0.52553,     0.52653,     0.52753,\n",
       "           0.52853,     0.52953,     0.53053,     0.53153,     0.53253,     0.53353,     0.53453,     0.53554,     0.53654,     0.53754,     0.53854,     0.53954,     0.54054,     0.54154,     0.54254,     0.54354,     0.54454,     0.54555,     0.54655,     0.54755,     0.54855,     0.54955,     0.55055,     0.55155,\n",
       "           0.55255,     0.55355,     0.55455,     0.55556,     0.55656,     0.55756,     0.55856,     0.55956,     0.56056,     0.56156,     0.56256,     0.56356,     0.56456,     0.56557,     0.56657,     0.56757,     0.56857,     0.56957,     0.57057,     0.57157,     0.57257,     0.57357,     0.57457,     0.57558,\n",
       "           0.57658,     0.57758,     0.57858,     0.57958,     0.58058,     0.58158,     0.58258,     0.58358,     0.58458,     0.58559,     0.58659,     0.58759,     0.58859,     0.58959,     0.59059,     0.59159,     0.59259,     0.59359,     0.59459,      0.5956,      0.5966,      0.5976,      0.5986,      0.5996,\n",
       "            0.6006,      0.6016,      0.6026,      0.6036,      0.6046,     0.60561,     0.60661,     0.60761,     0.60861,     0.60961,     0.61061,     0.61161,     0.61261,     0.61361,     0.61461,     0.61562,     0.61662,     0.61762,     0.61862,     0.61962,     0.62062,     0.62162,     0.62262,     0.62362,\n",
       "           0.62462,     0.62563,     0.62663,     0.62763,     0.62863,     0.62963,     0.63063,     0.63163,     0.63263,     0.63363,     0.63463,     0.63564,     0.63664,     0.63764,     0.63864,     0.63964,     0.64064,     0.64164,     0.64264,     0.64364,     0.64464,     0.64565,     0.64665,     0.64765,\n",
       "           0.64865,     0.64965,     0.65065,     0.65165,     0.65265,     0.65365,     0.65465,     0.65566,     0.65666,     0.65766,     0.65866,     0.65966,     0.66066,     0.66166,     0.66266,     0.66366,     0.66466,     0.66567,     0.66667,     0.66767,     0.66867,     0.66967,     0.67067,     0.67167,\n",
       "           0.67267,     0.67367,     0.67467,     0.67568,     0.67668,     0.67768,     0.67868,     0.67968,     0.68068,     0.68168,     0.68268,     0.68368,     0.68468,     0.68569,     0.68669,     0.68769,     0.68869,     0.68969,     0.69069,     0.69169,     0.69269,     0.69369,     0.69469,      0.6957,\n",
       "            0.6967,      0.6977,      0.6987,      0.6997,      0.7007,      0.7017,      0.7027,      0.7037,      0.7047,     0.70571,     0.70671,     0.70771,     0.70871,     0.70971,     0.71071,     0.71171,     0.71271,     0.71371,     0.71471,     0.71572,     0.71672,     0.71772,     0.71872,     0.71972,\n",
       "           0.72072,     0.72172,     0.72272,     0.72372,     0.72472,     0.72573,     0.72673,     0.72773,     0.72873,     0.72973,     0.73073,     0.73173,     0.73273,     0.73373,     0.73473,     0.73574,     0.73674,     0.73774,     0.73874,     0.73974,     0.74074,     0.74174,     0.74274,     0.74374,\n",
       "           0.74474,     0.74575,     0.74675,     0.74775,     0.74875,     0.74975,     0.75075,     0.75175,     0.75275,     0.75375,     0.75475,     0.75576,     0.75676,     0.75776,     0.75876,     0.75976,     0.76076,     0.76176,     0.76276,     0.76376,     0.76476,     0.76577,     0.76677,     0.76777,\n",
       "           0.76877,     0.76977,     0.77077,     0.77177,     0.77277,     0.77377,     0.77477,     0.77578,     0.77678,     0.77778,     0.77878,     0.77978,     0.78078,     0.78178,     0.78278,     0.78378,     0.78478,     0.78579,     0.78679,     0.78779,     0.78879,     0.78979,     0.79079,     0.79179,\n",
       "           0.79279,     0.79379,     0.79479,      0.7958,      0.7968,      0.7978,      0.7988,      0.7998,      0.8008,      0.8018,      0.8028,      0.8038,      0.8048,     0.80581,     0.80681,     0.80781,     0.80881,     0.80981,     0.81081,     0.81181,     0.81281,     0.81381,     0.81481,     0.81582,\n",
       "           0.81682,     0.81782,     0.81882,     0.81982,     0.82082,     0.82182,     0.82282,     0.82382,     0.82482,     0.82583,     0.82683,     0.82783,     0.82883,     0.82983,     0.83083,     0.83183,     0.83283,     0.83383,     0.83483,     0.83584,     0.83684,     0.83784,     0.83884,     0.83984,\n",
       "           0.84084,     0.84184,     0.84284,     0.84384,     0.84484,     0.84585,     0.84685,     0.84785,     0.84885,     0.84985,     0.85085,     0.85185,     0.85285,     0.85385,     0.85485,     0.85586,     0.85686,     0.85786,     0.85886,     0.85986,     0.86086,     0.86186,     0.86286,     0.86386,\n",
       "           0.86486,     0.86587,     0.86687,     0.86787,     0.86887,     0.86987,     0.87087,     0.87187,     0.87287,     0.87387,     0.87487,     0.87588,     0.87688,     0.87788,     0.87888,     0.87988,     0.88088,     0.88188,     0.88288,     0.88388,     0.88488,     0.88589,     0.88689,     0.88789,\n",
       "           0.88889,     0.88989,     0.89089,     0.89189,     0.89289,     0.89389,     0.89489,      0.8959,      0.8969,      0.8979,      0.8989,      0.8999,      0.9009,      0.9019,      0.9029,      0.9039,      0.9049,     0.90591,     0.90691,     0.90791,     0.90891,     0.90991,     0.91091,     0.91191,\n",
       "           0.91291,     0.91391,     0.91491,     0.91592,     0.91692,     0.91792,     0.91892,     0.91992,     0.92092,     0.92192,     0.92292,     0.92392,     0.92492,     0.92593,     0.92693,     0.92793,     0.92893,     0.92993,     0.93093,     0.93193,     0.93293,     0.93393,     0.93493,     0.93594,\n",
       "           0.93694,     0.93794,     0.93894,     0.93994,     0.94094,     0.94194,     0.94294,     0.94394,     0.94494,     0.94595,     0.94695,     0.94795,     0.94895,     0.94995,     0.95095,     0.95195,     0.95295,     0.95395,     0.95495,     0.95596,     0.95696,     0.95796,     0.95896,     0.95996,\n",
       "           0.96096,     0.96196,     0.96296,     0.96396,     0.96496,     0.96597,     0.96697,     0.96797,     0.96897,     0.96997,     0.97097,     0.97197,     0.97297,     0.97397,     0.97497,     0.97598,     0.97698,     0.97798,     0.97898,     0.97998,     0.98098,     0.98198,     0.98298,     0.98398,\n",
       "           0.98498,     0.98599,     0.98699,     0.98799,     0.98899,     0.98999,     0.99099,     0.99199,     0.99299,     0.99399,     0.99499,       0.996,       0.997,       0.998,       0.999,           1]), array([[    0.62727,     0.62727,     0.62727, ...,           0,           0,           0],\n",
       "       [          1,           1,           1, ...,           0,           0,           0],\n",
       "       [     0.7037,      0.7037,      0.7037, ...,           0,           0,           0]]), 'Confidence', 'Recall']]\n",
       "fitness: np.float64(0.053848524258874424)\n",
       "keys: ['metrics/precision(B)', 'metrics/recall(B)', 'metrics/mAP50(B)', 'metrics/mAP50-95(B)']\n",
       "maps: array([ 0.00036466,   0.0036926,     0.14933,     0.05113,     0.05113])\n",
       "names: {0: 'motorBebek', 1: 'motorListrik', 2: 'motorMatic', 3: 'motorSport', 4: 'motorTrail'}\n",
       "nt_per_class: array([110,   1, 108,   0,   0])\n",
       "nt_per_image: array([110,   1, 108,   0,   0])\n",
       "results_dict: {'metrics/precision(B)': np.float64(0.0018538378599679232), 'metrics/recall(B)': np.float64(0.7769921436588104), 'metrics/mAP50(B)': np.float64(0.07831492949355841), 'metrics/mAP50-95(B)': np.float64(0.051130034788353984), 'fitness': np.float64(0.053848524258874424)}\n",
       "speed: {'preprocess': 0.4283004566210245, 'inference': 3.156984474886126, 'loss': 0.00037305936051547443, 'postprocess': 2.5302744292240447}\n",
       "stats: {'tp': [], 'conf': [], 'pred_cls': [], 'target_cls': [], 'target_img': []}\n",
       "task: 'detect'"
      ]
     },
     "execution_count": 1,
     "metadata": {},
     "output_type": "execute_result"
    }
   ],
   "source": [
    "from ultralytics import YOLO\n",
    "\n",
    "print(\"\\n--- Starting YOLO Training with Early Stopping ---\")\n",
    "model = YOLO('yolov8n.pt')\n",
    "\n",
    "model.train(\n",
    "    data=\"C:/Users/samue/MotorcycleDetection-2/data.yaml\",\n",
    "    epochs=50,\n",
    "    imgsz=640,\n",
    "    batch=16,\n",
    "    name='motorcycle-yolo',\n",
    "    patience=10  # <-- stop training jika val loss tidak membaik selama 10 epoch\n",
    ")\n"
   ]
  },
  {
   "cell_type": "code",
   "execution_count": 2,
   "metadata": {
    "colab": {
     "base_uri": "https://localhost:8080/",
     "height": 1000
    },
    "id": "mdGQ-2OHHfOJ",
    "outputId": "86a188c7-5b5b-43d9-9509-cf7695cb4c43"
   },
   "outputs": [
    {
     "name": "stdout",
     "output_type": "stream",
     "text": [
      "\n",
      "image 1/1 C:\\Users\\samue\\MotorcycleDetection-2\\test\\images\\-Images_180_jpg.rf.c8c5f03593abc0096e1ccc3ea3e0c790.jpg: 640x640 (no detections), 16.2ms\n",
      "Speed: 6.3ms preprocess, 16.2ms inference, 236.9ms postprocess per image at shape (1, 3, 640, 640)\n",
      "Saved: C:/Users/samue/MotorcycleDetection-2/test/predicted\\-Images_180_jpg.rf.c8c5f03593abc0096e1ccc3ea3e0c790.jpg\n",
      "\n",
      "image 1/1 C:\\Users\\samue\\MotorcycleDetection-2\\test\\images\\download-1-_jpeg.rf.6721c78c9e013cee9a26ce7e4c308a90.jpg: 640x640 (no detections), 16.5ms\n",
      "Speed: 3.3ms preprocess, 16.5ms inference, 2.5ms postprocess per image at shape (1, 3, 640, 640)\n",
      "Saved: C:/Users/samue/MotorcycleDetection-2/test/predicted\\download-1-_jpeg.rf.6721c78c9e013cee9a26ce7e4c308a90.jpg\n",
      "\n",
      "image 1/1 C:\\Users\\samue\\MotorcycleDetection-2\\test\\images\\download-1-_jpg.rf.ce72df9fdf74702e6b12b035a5d09787.jpg: 640x640 (no detections), 22.6ms\n",
      "Speed: 4.5ms preprocess, 22.6ms inference, 2.5ms postprocess per image at shape (1, 3, 640, 640)\n",
      "Saved: C:/Users/samue/MotorcycleDetection-2/test/predicted\\download-1-_jpg.rf.ce72df9fdf74702e6b12b035a5d09787.jpg\n",
      "\n",
      "image 1/1 C:\\Users\\samue\\MotorcycleDetection-2\\test\\images\\download-10-_jpeg.rf.1965cfa8b44c1578a4cc849802fb6f3d.jpg: 640x640 (no detections), 14.5ms\n",
      "Speed: 4.7ms preprocess, 14.5ms inference, 1.9ms postprocess per image at shape (1, 3, 640, 640)\n",
      "Saved: C:/Users/samue/MotorcycleDetection-2/test/predicted\\download-10-_jpeg.rf.1965cfa8b44c1578a4cc849802fb6f3d.jpg\n",
      "\n",
      "image 1/1 C:\\Users\\samue\\MotorcycleDetection-2\\test\\images\\download-11-_jpeg.rf.044c433205429ca010bfc55d15ad335e.jpg: 640x640 (no detections), 12.7ms\n",
      "Speed: 4.0ms preprocess, 12.7ms inference, 1.8ms postprocess per image at shape (1, 3, 640, 640)\n",
      "Saved: C:/Users/samue/MotorcycleDetection-2/test/predicted\\download-11-_jpeg.rf.044c433205429ca010bfc55d15ad335e.jpg\n",
      "\n",
      "image 1/1 C:\\Users\\samue\\MotorcycleDetection-2\\test\\images\\download-12-_jpeg.rf.f53022f6221170e97ed7d6c62a668604.jpg: 640x640 (no detections), 15.7ms\n",
      "Speed: 3.4ms preprocess, 15.7ms inference, 1.7ms postprocess per image at shape (1, 3, 640, 640)\n",
      "Saved: C:/Users/samue/MotorcycleDetection-2/test/predicted\\download-12-_jpeg.rf.f53022f6221170e97ed7d6c62a668604.jpg\n",
      "\n",
      "image 1/1 C:\\Users\\samue\\MotorcycleDetection-2\\test\\images\\download-13-_jpeg.rf.ce69a11ad9ce66f0369161c1663fcd13.jpg: 640x640 (no detections), 15.0ms\n",
      "Speed: 4.4ms preprocess, 15.0ms inference, 2.3ms postprocess per image at shape (1, 3, 640, 640)\n",
      "Saved: C:/Users/samue/MotorcycleDetection-2/test/predicted\\download-13-_jpeg.rf.ce69a11ad9ce66f0369161c1663fcd13.jpg\n",
      "\n",
      "image 1/1 C:\\Users\\samue\\MotorcycleDetection-2\\test\\images\\download-14-_jpeg.rf.4cf4aa5daaa7248cba54e4ddaf6f3662.jpg: 640x640 (no detections), 15.2ms\n",
      "Speed: 3.3ms preprocess, 15.2ms inference, 2.3ms postprocess per image at shape (1, 3, 640, 640)\n",
      "Saved: C:/Users/samue/MotorcycleDetection-2/test/predicted\\download-14-_jpeg.rf.4cf4aa5daaa7248cba54e4ddaf6f3662.jpg\n",
      "\n",
      "image 1/1 C:\\Users\\samue\\MotorcycleDetection-2\\test\\images\\download-15-_jpeg.rf.753f02c3e3fa1f934dcc4291f573ffc5.jpg: 640x640 (no detections), 19.2ms\n",
      "Speed: 4.1ms preprocess, 19.2ms inference, 4.4ms postprocess per image at shape (1, 3, 640, 640)\n",
      "Saved: C:/Users/samue/MotorcycleDetection-2/test/predicted\\download-15-_jpeg.rf.753f02c3e3fa1f934dcc4291f573ffc5.jpg\n",
      "\n",
      "image 1/1 C:\\Users\\samue\\MotorcycleDetection-2\\test\\images\\download-16-_jpeg.rf.c4fdaba004eff6468da4c3626df083ab.jpg: 640x640 (no detections), 14.9ms\n",
      "Speed: 3.0ms preprocess, 14.9ms inference, 3.1ms postprocess per image at shape (1, 3, 640, 640)\n",
      "Saved: C:/Users/samue/MotorcycleDetection-2/test/predicted\\download-16-_jpeg.rf.c4fdaba004eff6468da4c3626df083ab.jpg\n",
      "\n",
      "image 1/1 C:\\Users\\samue\\MotorcycleDetection-2\\test\\images\\download-17-_jpeg.rf.cbdf8bcb9bcff54c81b8d52dc0812b95.jpg: 640x640 (no detections), 17.4ms\n",
      "Speed: 4.9ms preprocess, 17.4ms inference, 2.5ms postprocess per image at shape (1, 3, 640, 640)\n",
      "Saved: C:/Users/samue/MotorcycleDetection-2/test/predicted\\download-17-_jpeg.rf.cbdf8bcb9bcff54c81b8d52dc0812b95.jpg\n",
      "\n",
      "image 1/1 C:\\Users\\samue\\MotorcycleDetection-2\\test\\images\\download-18-_jpeg.rf.568f721df09ef7b7ca4a5806b1e7d453.jpg: 640x640 (no detections), 18.1ms\n",
      "Speed: 6.2ms preprocess, 18.1ms inference, 1.8ms postprocess per image at shape (1, 3, 640, 640)\n",
      "Saved: C:/Users/samue/MotorcycleDetection-2/test/predicted\\download-18-_jpeg.rf.568f721df09ef7b7ca4a5806b1e7d453.jpg\n",
      "\n",
      "image 1/1 C:\\Users\\samue\\MotorcycleDetection-2\\test\\images\\download-19-_jpeg.rf.8ccb588fceca0569d3489e9fc7f2b1d7.jpg: 640x640 (no detections), 15.8ms\n",
      "Speed: 4.4ms preprocess, 15.8ms inference, 2.4ms postprocess per image at shape (1, 3, 640, 640)\n",
      "Saved: C:/Users/samue/MotorcycleDetection-2/test/predicted\\download-19-_jpeg.rf.8ccb588fceca0569d3489e9fc7f2b1d7.jpg\n",
      "\n",
      "image 1/1 C:\\Users\\samue\\MotorcycleDetection-2\\test\\images\\download-2-_jpeg.rf.f15e4cccc7130b08dedc557577cfe5bd.jpg: 640x640 (no detections), 15.4ms\n",
      "Speed: 5.2ms preprocess, 15.4ms inference, 2.4ms postprocess per image at shape (1, 3, 640, 640)\n",
      "Saved: C:/Users/samue/MotorcycleDetection-2/test/predicted\\download-2-_jpeg.rf.f15e4cccc7130b08dedc557577cfe5bd.jpg\n",
      "\n",
      "image 1/1 C:\\Users\\samue\\MotorcycleDetection-2\\test\\images\\Iamges_187_jpg.rf.88bbe5b38501a8546b2c5b9c57aec2f2.jpg: 640x640 (no detections), 17.6ms\n",
      "Speed: 4.7ms preprocess, 17.6ms inference, 2.4ms postprocess per image at shape (1, 3, 640, 640)\n",
      "Saved: C:/Users/samue/MotorcycleDetection-2/test/predicted\\Iamges_187_jpg.rf.88bbe5b38501a8546b2c5b9c57aec2f2.jpg\n",
      "\n",
      "image 1/1 C:\\Users\\samue\\MotorcycleDetection-2\\test\\images\\Ijmages_114_jpg.rf.a1947664330269045016ce823c3b5968.jpg: 640x640 (no detections), 15.9ms\n",
      "Speed: 3.1ms preprocess, 15.9ms inference, 1.3ms postprocess per image at shape (1, 3, 640, 640)\n",
      "Saved: C:/Users/samue/MotorcycleDetection-2/test/predicted\\Ijmages_114_jpg.rf.a1947664330269045016ce823c3b5968.jpg\n",
      "\n",
      "image 1/1 C:\\Users\\samue\\MotorcycleDetection-2\\test\\images\\images-40-_jpeg.rf.b2be293d15f09f2530c4c3952c5cb9ad.jpg: 640x640 (no detections), 16.2ms\n",
      "Speed: 3.7ms preprocess, 16.2ms inference, 3.9ms postprocess per image at shape (1, 3, 640, 640)\n",
      "Saved: C:/Users/samue/MotorcycleDetection-2/test/predicted\\images-40-_jpeg.rf.b2be293d15f09f2530c4c3952c5cb9ad.jpg\n",
      "\n",
      "image 1/1 C:\\Users\\samue\\MotorcycleDetection-2\\test\\images\\images-41-_jpeg.rf.9f215f93c3e83b56610306cba68939f4.jpg: 640x640 (no detections), 18.4ms\n",
      "Speed: 3.6ms preprocess, 18.4ms inference, 2.4ms postprocess per image at shape (1, 3, 640, 640)\n",
      "Saved: C:/Users/samue/MotorcycleDetection-2/test/predicted\\images-41-_jpeg.rf.9f215f93c3e83b56610306cba68939f4.jpg\n",
      "\n",
      "image 1/1 C:\\Users\\samue\\MotorcycleDetection-2\\test\\images\\images-42-_jpeg.rf.f5d654c69ab7e3d130fa054c2e190990.jpg: 640x640 (no detections), 18.3ms\n",
      "Speed: 5.5ms preprocess, 18.3ms inference, 2.6ms postprocess per image at shape (1, 3, 640, 640)\n",
      "Saved: C:/Users/samue/MotorcycleDetection-2/test/predicted\\images-42-_jpeg.rf.f5d654c69ab7e3d130fa054c2e190990.jpg\n",
      "\n",
      "image 1/1 C:\\Users\\samue\\MotorcycleDetection-2\\test\\images\\images-43-_jpeg.rf.5c3f0b1dbff1b2034d119cc66d938659.jpg: 640x640 (no detections), 20.8ms\n",
      "Speed: 8.0ms preprocess, 20.8ms inference, 1.9ms postprocess per image at shape (1, 3, 640, 640)\n",
      "Saved: C:/Users/samue/MotorcycleDetection-2/test/predicted\\images-43-_jpeg.rf.5c3f0b1dbff1b2034d119cc66d938659.jpg\n",
      "\n",
      "image 1/1 C:\\Users\\samue\\MotorcycleDetection-2\\test\\images\\images-44-_jpeg.rf.5083aadbdeea24a7cbcea62ba7905f54.jpg: 640x640 (no detections), 19.0ms\n",
      "Speed: 7.7ms preprocess, 19.0ms inference, 2.4ms postprocess per image at shape (1, 3, 640, 640)\n",
      "Saved: C:/Users/samue/MotorcycleDetection-2/test/predicted\\images-44-_jpeg.rf.5083aadbdeea24a7cbcea62ba7905f54.jpg\n",
      "\n",
      "image 1/1 C:\\Users\\samue\\MotorcycleDetection-2\\test\\images\\images-45-_jpeg.rf.43e217487aabeabe3cf3ad003ca45e9b.jpg: 640x640 (no detections), 19.5ms\n",
      "Speed: 3.3ms preprocess, 19.5ms inference, 2.6ms postprocess per image at shape (1, 3, 640, 640)\n",
      "Saved: C:/Users/samue/MotorcycleDetection-2/test/predicted\\images-45-_jpeg.rf.43e217487aabeabe3cf3ad003ca45e9b.jpg\n",
      "\n",
      "image 1/1 C:\\Users\\samue\\MotorcycleDetection-2\\test\\images\\images-46-_jpeg.rf.783fb2f1d914a7eb5baa478b00338c42.jpg: 640x640 (no detections), 30.7ms\n",
      "Speed: 4.5ms preprocess, 30.7ms inference, 1.2ms postprocess per image at shape (1, 3, 640, 640)\n",
      "Saved: C:/Users/samue/MotorcycleDetection-2/test/predicted\\images-46-_jpeg.rf.783fb2f1d914a7eb5baa478b00338c42.jpg\n",
      "\n",
      "image 1/1 C:\\Users\\samue\\MotorcycleDetection-2\\test\\images\\images-47-_jpeg.rf.c4aabd9cea48d16b0a07179dfa38588f.jpg: 640x640 (no detections), 22.7ms\n",
      "Speed: 4.2ms preprocess, 22.7ms inference, 1.9ms postprocess per image at shape (1, 3, 640, 640)\n",
      "Saved: C:/Users/samue/MotorcycleDetection-2/test/predicted\\images-47-_jpeg.rf.c4aabd9cea48d16b0a07179dfa38588f.jpg\n",
      "\n",
      "image 1/1 C:\\Users\\samue\\MotorcycleDetection-2\\test\\images\\images-52-_jpeg.rf.e3a50b6dde2ac4649b886a03cdc86e95.jpg: 640x640 (no detections), 15.1ms\n",
      "Speed: 5.0ms preprocess, 15.1ms inference, 1.8ms postprocess per image at shape (1, 3, 640, 640)\n",
      "Saved: C:/Users/samue/MotorcycleDetection-2/test/predicted\\images-52-_jpeg.rf.e3a50b6dde2ac4649b886a03cdc86e95.jpg\n",
      "\n",
      "image 1/1 C:\\Users\\samue\\MotorcycleDetection-2\\test\\images\\images-56-_jpeg.rf.d0c037b5ba34cea78bcdcfc4d1f1dce8.jpg: 640x640 (no detections), 15.8ms\n",
      "Speed: 4.5ms preprocess, 15.8ms inference, 1.9ms postprocess per image at shape (1, 3, 640, 640)\n",
      "Saved: C:/Users/samue/MotorcycleDetection-2/test/predicted\\images-56-_jpeg.rf.d0c037b5ba34cea78bcdcfc4d1f1dce8.jpg\n",
      "\n",
      "image 1/1 C:\\Users\\samue\\MotorcycleDetection-2\\test\\images\\images-6-_jpeg.rf.0bf38ca49ab3ddda582b3da4d1cbd21a.jpg: 640x640 (no detections), 18.9ms\n",
      "Speed: 5.2ms preprocess, 18.9ms inference, 2.4ms postprocess per image at shape (1, 3, 640, 640)\n",
      "Saved: C:/Users/samue/MotorcycleDetection-2/test/predicted\\images-6-_jpeg.rf.0bf38ca49ab3ddda582b3da4d1cbd21a.jpg\n",
      "\n",
      "image 1/1 C:\\Users\\samue\\MotorcycleDetection-2\\test\\images\\images-7-_jpeg.rf.7ebdada6fc32cb5640e574f08119731f.jpg: 640x640 (no detections), 21.3ms\n",
      "Speed: 5.1ms preprocess, 21.3ms inference, 2.3ms postprocess per image at shape (1, 3, 640, 640)\n",
      "Saved: C:/Users/samue/MotorcycleDetection-2/test/predicted\\images-7-_jpeg.rf.7ebdada6fc32cb5640e574f08119731f.jpg\n",
      "\n",
      "image 1/1 C:\\Users\\samue\\MotorcycleDetection-2\\test\\images\\images-8-_jpeg.rf.855ed5f8c6fe5883549be63b09026a3e.jpg: 640x640 (no detections), 20.8ms\n",
      "Speed: 4.9ms preprocess, 20.8ms inference, 2.5ms postprocess per image at shape (1, 3, 640, 640)\n",
      "Saved: C:/Users/samue/MotorcycleDetection-2/test/predicted\\images-8-_jpeg.rf.855ed5f8c6fe5883549be63b09026a3e.jpg\n",
      "\n",
      "image 1/1 C:\\Users\\samue\\MotorcycleDetection-2\\test\\images\\Images_111_jpg.rf.1e82b860df903e1487315bd25b0b1cbb.jpg: 640x640 (no detections), 17.1ms\n",
      "Speed: 4.1ms preprocess, 17.1ms inference, 1.3ms postprocess per image at shape (1, 3, 640, 640)\n",
      "Saved: C:/Users/samue/MotorcycleDetection-2/test/predicted\\Images_111_jpg.rf.1e82b860df903e1487315bd25b0b1cbb.jpg\n",
      "\n",
      "image 1/1 C:\\Users\\samue\\MotorcycleDetection-2\\test\\images\\Images_112_jpg.rf.3cc9c09ce3b713281a5f93ff95aada7b.jpg: 640x640 (no detections), 19.9ms\n",
      "Speed: 4.6ms preprocess, 19.9ms inference, 2.2ms postprocess per image at shape (1, 3, 640, 640)\n",
      "Saved: C:/Users/samue/MotorcycleDetection-2/test/predicted\\Images_112_jpg.rf.3cc9c09ce3b713281a5f93ff95aada7b.jpg\n",
      "\n",
      "image 1/1 C:\\Users\\samue\\MotorcycleDetection-2\\test\\images\\Images_113_jpg.rf.d63434d011ef17b9dc41748fb1d6681b.jpg: 640x640 (no detections), 15.8ms\n",
      "Speed: 3.4ms preprocess, 15.8ms inference, 2.4ms postprocess per image at shape (1, 3, 640, 640)\n",
      "Saved: C:/Users/samue/MotorcycleDetection-2/test/predicted\\Images_113_jpg.rf.d63434d011ef17b9dc41748fb1d6681b.jpg\n",
      "\n",
      "image 1/1 C:\\Users\\samue\\MotorcycleDetection-2\\test\\images\\Images_115_jpg.rf.bb5ef71f5b3a9d287755b22852223d63.jpg: 640x640 (no detections), 15.4ms\n",
      "Speed: 2.9ms preprocess, 15.4ms inference, 1.8ms postprocess per image at shape (1, 3, 640, 640)\n",
      "Saved: C:/Users/samue/MotorcycleDetection-2/test/predicted\\Images_115_jpg.rf.bb5ef71f5b3a9d287755b22852223d63.jpg\n",
      "\n",
      "image 1/1 C:\\Users\\samue\\MotorcycleDetection-2\\test\\images\\Images_116_jpg.rf.cbfc07e3f583bbab88cb0ec4fe70adb5.jpg: 640x640 (no detections), 15.4ms\n",
      "Speed: 3.8ms preprocess, 15.4ms inference, 2.5ms postprocess per image at shape (1, 3, 640, 640)\n",
      "Saved: C:/Users/samue/MotorcycleDetection-2/test/predicted\\Images_116_jpg.rf.cbfc07e3f583bbab88cb0ec4fe70adb5.jpg\n",
      "\n",
      "image 1/1 C:\\Users\\samue\\MotorcycleDetection-2\\test\\images\\Images_117_jpg.rf.9c3f3868fa34b5982852bb3ecc3e1d58.jpg: 640x640 (no detections), 17.0ms\n",
      "Speed: 4.1ms preprocess, 17.0ms inference, 2.6ms postprocess per image at shape (1, 3, 640, 640)\n",
      "Saved: C:/Users/samue/MotorcycleDetection-2/test/predicted\\Images_117_jpg.rf.9c3f3868fa34b5982852bb3ecc3e1d58.jpg\n",
      "\n",
      "image 1/1 C:\\Users\\samue\\MotorcycleDetection-2\\test\\images\\Images_118_jpg.rf.4506fde7be1d4499ec05f85f2dae0f87.jpg: 640x640 (no detections), 15.5ms\n",
      "Speed: 4.3ms preprocess, 15.5ms inference, 1.2ms postprocess per image at shape (1, 3, 640, 640)\n",
      "Saved: C:/Users/samue/MotorcycleDetection-2/test/predicted\\Images_118_jpg.rf.4506fde7be1d4499ec05f85f2dae0f87.jpg\n",
      "\n",
      "image 1/1 C:\\Users\\samue\\MotorcycleDetection-2\\test\\images\\Images_119_jpg.rf.763262ca49b63c385303351efef01350.jpg: 640x640 (no detections), 16.4ms\n",
      "Speed: 4.3ms preprocess, 16.4ms inference, 2.3ms postprocess per image at shape (1, 3, 640, 640)\n",
      "Saved: C:/Users/samue/MotorcycleDetection-2/test/predicted\\Images_119_jpg.rf.763262ca49b63c385303351efef01350.jpg\n",
      "\n",
      "image 1/1 C:\\Users\\samue\\MotorcycleDetection-2\\test\\images\\Images_120_jpg.rf.f222021a6b3e0f24da62ebbd92e1deb7.jpg: 640x640 (no detections), 38.1ms\n",
      "Speed: 4.4ms preprocess, 38.1ms inference, 2.7ms postprocess per image at shape (1, 3, 640, 640)\n",
      "Saved: C:/Users/samue/MotorcycleDetection-2/test/predicted\\Images_120_jpg.rf.f222021a6b3e0f24da62ebbd92e1deb7.jpg\n",
      "\n",
      "image 1/1 C:\\Users\\samue\\MotorcycleDetection-2\\test\\images\\Images_122_jpg.rf.f0698dd0a8fc13872c8637d0570e31fe.jpg: 640x640 (no detections), 16.9ms\n",
      "Speed: 3.2ms preprocess, 16.9ms inference, 2.8ms postprocess per image at shape (1, 3, 640, 640)\n",
      "Saved: C:/Users/samue/MotorcycleDetection-2/test/predicted\\Images_122_jpg.rf.f0698dd0a8fc13872c8637d0570e31fe.jpg\n",
      "\n",
      "image 1/1 C:\\Users\\samue\\MotorcycleDetection-2\\test\\images\\Images_123_jpg.rf.720ac85e069d32cb3b183324421d4c16.jpg: 640x640 (no detections), 18.0ms\n",
      "Speed: 5.0ms preprocess, 18.0ms inference, 4.1ms postprocess per image at shape (1, 3, 640, 640)\n",
      "Saved: C:/Users/samue/MotorcycleDetection-2/test/predicted\\Images_123_jpg.rf.720ac85e069d32cb3b183324421d4c16.jpg\n",
      "\n",
      "image 1/1 C:\\Users\\samue\\MotorcycleDetection-2\\test\\images\\Images_124_jpg.rf.d2c76e0f607975bc8e79bff950270f8b.jpg: 640x640 (no detections), 20.0ms\n",
      "Speed: 5.0ms preprocess, 20.0ms inference, 2.4ms postprocess per image at shape (1, 3, 640, 640)\n",
      "Saved: C:/Users/samue/MotorcycleDetection-2/test/predicted\\Images_124_jpg.rf.d2c76e0f607975bc8e79bff950270f8b.jpg\n",
      "\n",
      "image 1/1 C:\\Users\\samue\\MotorcycleDetection-2\\test\\images\\Images_126_jpg.rf.615f1bdd34bff7b1c09dafce548bde40.jpg: 640x640 (no detections), 20.6ms\n",
      "Speed: 3.6ms preprocess, 20.6ms inference, 2.5ms postprocess per image at shape (1, 3, 640, 640)\n",
      "Saved: C:/Users/samue/MotorcycleDetection-2/test/predicted\\Images_126_jpg.rf.615f1bdd34bff7b1c09dafce548bde40.jpg\n",
      "\n",
      "image 1/1 C:\\Users\\samue\\MotorcycleDetection-2\\test\\images\\Images_127_jpg.rf.d2c2e747e12151cf7ab5dfeb54e85b7c.jpg: 640x640 (no detections), 20.9ms\n",
      "Speed: 3.7ms preprocess, 20.9ms inference, 2.6ms postprocess per image at shape (1, 3, 640, 640)\n",
      "Saved: C:/Users/samue/MotorcycleDetection-2/test/predicted\\Images_127_jpg.rf.d2c2e747e12151cf7ab5dfeb54e85b7c.jpg\n",
      "\n",
      "image 1/1 C:\\Users\\samue\\MotorcycleDetection-2\\test\\images\\Images_128_jpg.rf.e1efb8b0dfea7a7903fa21b97aa521b2.jpg: 640x640 (no detections), 17.5ms\n",
      "Speed: 4.2ms preprocess, 17.5ms inference, 2.4ms postprocess per image at shape (1, 3, 640, 640)\n",
      "Saved: C:/Users/samue/MotorcycleDetection-2/test/predicted\\Images_128_jpg.rf.e1efb8b0dfea7a7903fa21b97aa521b2.jpg\n",
      "\n",
      "image 1/1 C:\\Users\\samue\\MotorcycleDetection-2\\test\\images\\Images_130_jpg.rf.0262e591c24e54119628fdf77adfa1fd.jpg: 640x640 (no detections), 20.8ms\n",
      "Speed: 5.0ms preprocess, 20.8ms inference, 1.5ms postprocess per image at shape (1, 3, 640, 640)\n",
      "Saved: C:/Users/samue/MotorcycleDetection-2/test/predicted\\Images_130_jpg.rf.0262e591c24e54119628fdf77adfa1fd.jpg\n",
      "\n",
      "image 1/1 C:\\Users\\samue\\MotorcycleDetection-2\\test\\images\\Images_131_jpg.rf.c47946c7c4d48bef000a158316bdd1a5.jpg: 640x640 (no detections), 16.2ms\n",
      "Speed: 4.1ms preprocess, 16.2ms inference, 1.3ms postprocess per image at shape (1, 3, 640, 640)\n",
      "Saved: C:/Users/samue/MotorcycleDetection-2/test/predicted\\Images_131_jpg.rf.c47946c7c4d48bef000a158316bdd1a5.jpg\n",
      "\n",
      "image 1/1 C:\\Users\\samue\\MotorcycleDetection-2\\test\\images\\Images_132_jpg.rf.c0781d73df0a3c9f1f7e2a699b6fa032.jpg: 640x640 (no detections), 14.8ms\n",
      "Speed: 3.4ms preprocess, 14.8ms inference, 2.3ms postprocess per image at shape (1, 3, 640, 640)\n",
      "Saved: C:/Users/samue/MotorcycleDetection-2/test/predicted\\Images_132_jpg.rf.c0781d73df0a3c9f1f7e2a699b6fa032.jpg\n",
      "\n",
      "image 1/1 C:\\Users\\samue\\MotorcycleDetection-2\\test\\images\\Images_137_jpg.rf.def8b3aa9537f894c8d1e27b7dfe0634.jpg: 640x640 (no detections), 15.6ms\n",
      "Speed: 4.1ms preprocess, 15.6ms inference, 2.4ms postprocess per image at shape (1, 3, 640, 640)\n",
      "Saved: C:/Users/samue/MotorcycleDetection-2/test/predicted\\Images_137_jpg.rf.def8b3aa9537f894c8d1e27b7dfe0634.jpg\n",
      "\n",
      "image 1/1 C:\\Users\\samue\\MotorcycleDetection-2\\test\\images\\Images_138_jpg.rf.c9f193c91332baa1f7a359c12dcb66f3.jpg: 640x640 (no detections), 15.2ms\n",
      "Speed: 4.4ms preprocess, 15.2ms inference, 2.4ms postprocess per image at shape (1, 3, 640, 640)\n",
      "Saved: C:/Users/samue/MotorcycleDetection-2/test/predicted\\Images_138_jpg.rf.c9f193c91332baa1f7a359c12dcb66f3.jpg\n",
      "\n",
      "image 1/1 C:\\Users\\samue\\MotorcycleDetection-2\\test\\images\\Images_139_jpg.rf.5176317b4f906ec220bea39cce66c1c3.jpg: 640x640 (no detections), 15.4ms\n",
      "Speed: 4.0ms preprocess, 15.4ms inference, 1.3ms postprocess per image at shape (1, 3, 640, 640)\n",
      "Saved: C:/Users/samue/MotorcycleDetection-2/test/predicted\\Images_139_jpg.rf.5176317b4f906ec220bea39cce66c1c3.jpg\n",
      "\n",
      "image 1/1 C:\\Users\\samue\\MotorcycleDetection-2\\test\\images\\Images_143_jpg.rf.2020f8ffa1551015c2f2e64415cea85e.jpg: 640x640 (no detections), 35.0ms\n",
      "Speed: 3.6ms preprocess, 35.0ms inference, 1.5ms postprocess per image at shape (1, 3, 640, 640)\n",
      "Saved: C:/Users/samue/MotorcycleDetection-2/test/predicted\\Images_143_jpg.rf.2020f8ffa1551015c2f2e64415cea85e.jpg\n",
      "\n",
      "image 1/1 C:\\Users\\samue\\MotorcycleDetection-2\\test\\images\\Images_144_jpg.rf.437b1db4708f6b225372ec2fc7ea3b9d.jpg: 640x640 (no detections), 15.8ms\n",
      "Speed: 3.2ms preprocess, 15.8ms inference, 2.4ms postprocess per image at shape (1, 3, 640, 640)\n",
      "Saved: C:/Users/samue/MotorcycleDetection-2/test/predicted\\Images_144_jpg.rf.437b1db4708f6b225372ec2fc7ea3b9d.jpg\n",
      "\n",
      "image 1/1 C:\\Users\\samue\\MotorcycleDetection-2\\test\\images\\Images_145_jpg.rf.db052331c8e4c604a3b46bee6821bc41.jpg: 640x640 (no detections), 16.1ms\n",
      "Speed: 4.4ms preprocess, 16.1ms inference, 2.4ms postprocess per image at shape (1, 3, 640, 640)\n",
      "Saved: C:/Users/samue/MotorcycleDetection-2/test/predicted\\Images_145_jpg.rf.db052331c8e4c604a3b46bee6821bc41.jpg\n",
      "\n",
      "image 1/1 C:\\Users\\samue\\MotorcycleDetection-2\\test\\images\\Images_146_jpg.rf.2312bbe719083cd4b1655d7c501de954.jpg: 640x640 (no detections), 16.8ms\n",
      "Speed: 3.7ms preprocess, 16.8ms inference, 1.5ms postprocess per image at shape (1, 3, 640, 640)\n",
      "Saved: C:/Users/samue/MotorcycleDetection-2/test/predicted\\Images_146_jpg.rf.2312bbe719083cd4b1655d7c501de954.jpg\n",
      "\n",
      "image 1/1 C:\\Users\\samue\\MotorcycleDetection-2\\test\\images\\Images_154_jpg.rf.ad1f157f4f0f60d34070655a36d6f855.jpg: 640x640 (no detections), 15.6ms\n",
      "Speed: 4.8ms preprocess, 15.6ms inference, 1.3ms postprocess per image at shape (1, 3, 640, 640)\n",
      "Saved: C:/Users/samue/MotorcycleDetection-2/test/predicted\\Images_154_jpg.rf.ad1f157f4f0f60d34070655a36d6f855.jpg\n",
      "\n",
      "image 1/1 C:\\Users\\samue\\MotorcycleDetection-2\\test\\images\\Images_156_jpg.rf.131512549b315ef47547b9a385009922.jpg: 640x640 (no detections), 21.9ms\n",
      "Speed: 4.0ms preprocess, 21.9ms inference, 2.4ms postprocess per image at shape (1, 3, 640, 640)\n",
      "Saved: C:/Users/samue/MotorcycleDetection-2/test/predicted\\Images_156_jpg.rf.131512549b315ef47547b9a385009922.jpg\n",
      "\n",
      "image 1/1 C:\\Users\\samue\\MotorcycleDetection-2\\test\\images\\Images_157_jpg.rf.3cb119236e6de289088a7e1e7d894172.jpg: 640x640 (no detections), 16.8ms\n",
      "Speed: 3.5ms preprocess, 16.8ms inference, 3.2ms postprocess per image at shape (1, 3, 640, 640)\n",
      "Saved: C:/Users/samue/MotorcycleDetection-2/test/predicted\\Images_157_jpg.rf.3cb119236e6de289088a7e1e7d894172.jpg\n",
      "\n",
      "image 1/1 C:\\Users\\samue\\MotorcycleDetection-2\\test\\images\\Images_159_jpg.rf.3aefd9f30ad73f7a6fb07200445de7d0.jpg: 640x640 (no detections), 15.8ms\n",
      "Speed: 3.9ms preprocess, 15.8ms inference, 2.7ms postprocess per image at shape (1, 3, 640, 640)\n",
      "Saved: C:/Users/samue/MotorcycleDetection-2/test/predicted\\Images_159_jpg.rf.3aefd9f30ad73f7a6fb07200445de7d0.jpg\n",
      "\n",
      "image 1/1 C:\\Users\\samue\\MotorcycleDetection-2\\test\\images\\Images_162_jpg.rf.83e93189a1741d6d956097a26ab9a94f.jpg: 640x640 (no detections), 13.7ms\n",
      "Speed: 2.8ms preprocess, 13.7ms inference, 1.9ms postprocess per image at shape (1, 3, 640, 640)\n",
      "Saved: C:/Users/samue/MotorcycleDetection-2/test/predicted\\Images_162_jpg.rf.83e93189a1741d6d956097a26ab9a94f.jpg\n",
      "\n",
      "image 1/1 C:\\Users\\samue\\MotorcycleDetection-2\\test\\images\\Images_166_jpg.rf.2fb0bd5e7a501bcaf87a9283cc49c83c.jpg: 640x640 (no detections), 15.4ms\n",
      "Speed: 3.0ms preprocess, 15.4ms inference, 2.5ms postprocess per image at shape (1, 3, 640, 640)\n",
      "Saved: C:/Users/samue/MotorcycleDetection-2/test/predicted\\Images_166_jpg.rf.2fb0bd5e7a501bcaf87a9283cc49c83c.jpg\n",
      "\n",
      "image 1/1 C:\\Users\\samue\\MotorcycleDetection-2\\test\\images\\Images_167_jpg.rf.2473b2aae89a0c4aded3f1459b3d1fa0.jpg: 640x640 (no detections), 14.8ms\n",
      "Speed: 5.2ms preprocess, 14.8ms inference, 2.4ms postprocess per image at shape (1, 3, 640, 640)\n",
      "Saved: C:/Users/samue/MotorcycleDetection-2/test/predicted\\Images_167_jpg.rf.2473b2aae89a0c4aded3f1459b3d1fa0.jpg\n",
      "\n",
      "image 1/1 C:\\Users\\samue\\MotorcycleDetection-2\\test\\images\\Images_169_jpg.rf.6c3658e089e09696ba94238728c78f40.jpg: 640x640 (no detections), 13.4ms\n",
      "Speed: 3.7ms preprocess, 13.4ms inference, 1.8ms postprocess per image at shape (1, 3, 640, 640)\n",
      "Saved: C:/Users/samue/MotorcycleDetection-2/test/predicted\\Images_169_jpg.rf.6c3658e089e09696ba94238728c78f40.jpg\n",
      "\n",
      "image 1/1 C:\\Users\\samue\\MotorcycleDetection-2\\test\\images\\Images_171_jpg.rf.2a91e8ade8649863b4841b2a3ba9d73b.jpg: 640x640 (no detections), 15.9ms\n",
      "Speed: 3.6ms preprocess, 15.9ms inference, 2.5ms postprocess per image at shape (1, 3, 640, 640)\n",
      "Saved: C:/Users/samue/MotorcycleDetection-2/test/predicted\\Images_171_jpg.rf.2a91e8ade8649863b4841b2a3ba9d73b.jpg\n",
      "\n",
      "image 1/1 C:\\Users\\samue\\MotorcycleDetection-2\\test\\images\\Images_172_jpg.rf.78f155393f0ae38b474914d1d83b46bd.jpg: 640x640 1 motorSport, 16.2ms\n",
      "Speed: 4.2ms preprocess, 16.2ms inference, 293.9ms postprocess per image at shape (1, 3, 640, 640)\n",
      "Saved: C:/Users/samue/MotorcycleDetection-2/test/predicted\\Images_172_jpg.rf.78f155393f0ae38b474914d1d83b46bd.jpg\n",
      "\n",
      "image 1/1 C:\\Users\\samue\\MotorcycleDetection-2\\test\\images\\Images_174_jpg.rf.1340010f38ee2ae65fecf76d1d440c44.jpg: 640x640 (no detections), 17.0ms\n",
      "Speed: 4.8ms preprocess, 17.0ms inference, 1.5ms postprocess per image at shape (1, 3, 640, 640)\n",
      "Saved: C:/Users/samue/MotorcycleDetection-2/test/predicted\\Images_174_jpg.rf.1340010f38ee2ae65fecf76d1d440c44.jpg\n",
      "\n",
      "image 1/1 C:\\Users\\samue\\MotorcycleDetection-2\\test\\images\\IMages_177_jpg.rf.8d5348c06dd418a90e90f3ce7b0ea14f.jpg: 640x640 (no detections), 20.7ms\n",
      "Speed: 3.8ms preprocess, 20.7ms inference, 2.5ms postprocess per image at shape (1, 3, 640, 640)\n",
      "Saved: C:/Users/samue/MotorcycleDetection-2/test/predicted\\IMages_177_jpg.rf.8d5348c06dd418a90e90f3ce7b0ea14f.jpg\n",
      "\n",
      "image 1/1 C:\\Users\\samue\\MotorcycleDetection-2\\test\\images\\Images_178_jpg.rf.17f6a928f0c0bfd11e2f60938a4ef823.jpg: 640x640 (no detections), 23.1ms\n",
      "Speed: 3.5ms preprocess, 23.1ms inference, 2.3ms postprocess per image at shape (1, 3, 640, 640)\n",
      "Saved: C:/Users/samue/MotorcycleDetection-2/test/predicted\\Images_178_jpg.rf.17f6a928f0c0bfd11e2f60938a4ef823.jpg\n",
      "\n",
      "image 1/1 C:\\Users\\samue\\MotorcycleDetection-2\\test\\images\\Images_182_jpg.rf.d8a042980295e44d0d4b69dfc3f0f984.jpg: 640x640 (no detections), 15.8ms\n",
      "Speed: 3.9ms preprocess, 15.8ms inference, 3.6ms postprocess per image at shape (1, 3, 640, 640)\n",
      "Saved: C:/Users/samue/MotorcycleDetection-2/test/predicted\\Images_182_jpg.rf.d8a042980295e44d0d4b69dfc3f0f984.jpg\n",
      "\n",
      "image 1/1 C:\\Users\\samue\\MotorcycleDetection-2\\test\\images\\Images_183_jpg.rf.831a77281f3600307280df9a1952d448.jpg: 640x640 (no detections), 21.9ms\n",
      "Speed: 4.4ms preprocess, 21.9ms inference, 1.6ms postprocess per image at shape (1, 3, 640, 640)\n",
      "Saved: C:/Users/samue/MotorcycleDetection-2/test/predicted\\Images_183_jpg.rf.831a77281f3600307280df9a1952d448.jpg\n",
      "\n",
      "image 1/1 C:\\Users\\samue\\MotorcycleDetection-2\\test\\images\\Images_185_jpg.rf.1b9bc77a6c7fb5786da923403b2cd706.jpg: 640x640 (no detections), 14.9ms\n",
      "Speed: 3.8ms preprocess, 14.9ms inference, 1.4ms postprocess per image at shape (1, 3, 640, 640)\n",
      "Saved: C:/Users/samue/MotorcycleDetection-2/test/predicted\\Images_185_jpg.rf.1b9bc77a6c7fb5786da923403b2cd706.jpg\n",
      "\n",
      "image 1/1 C:\\Users\\samue\\MotorcycleDetection-2\\test\\images\\Images_186_jpg.rf.be756adec5c15031ebb6631d83185d84.jpg: 640x640 (no detections), 16.4ms\n",
      "Speed: 3.7ms preprocess, 16.4ms inference, 2.6ms postprocess per image at shape (1, 3, 640, 640)\n",
      "Saved: C:/Users/samue/MotorcycleDetection-2/test/predicted\\Images_186_jpg.rf.be756adec5c15031ebb6631d83185d84.jpg\n",
      "\n",
      "image 1/1 C:\\Users\\samue\\MotorcycleDetection-2\\test\\images\\Images_191_jpg.rf.bfab6413716bd95bc2e57b0d26064272.jpg: 640x640 (no detections), 22.3ms\n",
      "Speed: 4.9ms preprocess, 22.3ms inference, 3.5ms postprocess per image at shape (1, 3, 640, 640)\n",
      "Saved: C:/Users/samue/MotorcycleDetection-2/test/predicted\\Images_191_jpg.rf.bfab6413716bd95bc2e57b0d26064272.jpg\n",
      "\n",
      "image 1/1 C:\\Users\\samue\\MotorcycleDetection-2\\test\\images\\Images_195_jpg.rf.2f49c49e21961855dd248f3921281d57.jpg: 640x640 (no detections), 12.8ms\n",
      "Speed: 3.1ms preprocess, 12.8ms inference, 1.4ms postprocess per image at shape (1, 3, 640, 640)\n",
      "Saved: C:/Users/samue/MotorcycleDetection-2/test/predicted\\Images_195_jpg.rf.2f49c49e21961855dd248f3921281d57.jpg\n",
      "\n",
      "image 1/1 C:\\Users\\samue\\MotorcycleDetection-2\\test\\images\\Images_196_jpg.rf.243301349a33c528cea7d04e1e29d2c4.jpg: 640x640 (no detections), 41.4ms\n",
      "Speed: 5.0ms preprocess, 41.4ms inference, 1.9ms postprocess per image at shape (1, 3, 640, 640)\n",
      "Saved: C:/Users/samue/MotorcycleDetection-2/test/predicted\\Images_196_jpg.rf.243301349a33c528cea7d04e1e29d2c4.jpg\n",
      "\n",
      "image 1/1 C:\\Users\\samue\\MotorcycleDetection-2\\test\\images\\Images_197_jpg.rf.c6330f894c3b0b89d54a5758c597a9a3.jpg: 640x640 (no detections), 15.7ms\n",
      "Speed: 4.5ms preprocess, 15.7ms inference, 2.5ms postprocess per image at shape (1, 3, 640, 640)\n",
      "Saved: C:/Users/samue/MotorcycleDetection-2/test/predicted\\Images_197_jpg.rf.c6330f894c3b0b89d54a5758c597a9a3.jpg\n",
      "\n",
      "image 1/1 C:\\Users\\samue\\MotorcycleDetection-2\\test\\images\\Images_201_jpg.rf.6e80e62a26e7f39e3182cf44cb46d0fe.jpg: 640x640 1 motorSport, 14.4ms\n",
      "Speed: 3.3ms preprocess, 14.4ms inference, 5.0ms postprocess per image at shape (1, 3, 640, 640)\n",
      "Saved: C:/Users/samue/MotorcycleDetection-2/test/predicted\\Images_201_jpg.rf.6e80e62a26e7f39e3182cf44cb46d0fe.jpg\n",
      "\n",
      "image 1/1 C:\\Users\\samue\\MotorcycleDetection-2\\test\\images\\Images_202_jpg.rf.5e25a658aa804d91f542b45f3b156438.jpg: 640x640 (no detections), 14.5ms\n",
      "Speed: 4.1ms preprocess, 14.5ms inference, 2.4ms postprocess per image at shape (1, 3, 640, 640)\n",
      "Saved: C:/Users/samue/MotorcycleDetection-2/test/predicted\\Images_202_jpg.rf.5e25a658aa804d91f542b45f3b156438.jpg\n",
      "\n",
      "image 1/1 C:\\Users\\samue\\MotorcycleDetection-2\\test\\images\\Images_203_jpg.rf.199b6aae0712c7720c22896c16f87d10.jpg: 640x640 (no detections), 15.6ms\n",
      "Speed: 3.7ms preprocess, 15.6ms inference, 2.3ms postprocess per image at shape (1, 3, 640, 640)\n",
      "Saved: C:/Users/samue/MotorcycleDetection-2/test/predicted\\Images_203_jpg.rf.199b6aae0712c7720c22896c16f87d10.jpg\n",
      "\n",
      "image 1/1 C:\\Users\\samue\\MotorcycleDetection-2\\test\\images\\Images_204_jpg.rf.f9bf3ef22b0f2984fc410516430bd05f.jpg: 640x640 (no detections), 14.4ms\n",
      "Speed: 3.3ms preprocess, 14.4ms inference, 1.3ms postprocess per image at shape (1, 3, 640, 640)\n",
      "Saved: C:/Users/samue/MotorcycleDetection-2/test/predicted\\Images_204_jpg.rf.f9bf3ef22b0f2984fc410516430bd05f.jpg\n",
      "\n",
      "image 1/1 C:\\Users\\samue\\MotorcycleDetection-2\\test\\images\\Images_205_jpg.rf.b411e4b2f4049115e41ca71a6383130d.jpg: 640x640 (no detections), 17.4ms\n",
      "Speed: 6.4ms preprocess, 17.4ms inference, 1.5ms postprocess per image at shape (1, 3, 640, 640)\n",
      "Saved: C:/Users/samue/MotorcycleDetection-2/test/predicted\\Images_205_jpg.rf.b411e4b2f4049115e41ca71a6383130d.jpg\n",
      "\n",
      "image 1/1 C:\\Users\\samue\\MotorcycleDetection-2\\test\\images\\Images_206_jpg.rf.1b7757e11c1d850b123decd0b52c6c4f.jpg: 640x640 (no detections), 19.6ms\n",
      "Speed: 4.5ms preprocess, 19.6ms inference, 2.2ms postprocess per image at shape (1, 3, 640, 640)\n",
      "Saved: C:/Users/samue/MotorcycleDetection-2/test/predicted\\Images_206_jpg.rf.1b7757e11c1d850b123decd0b52c6c4f.jpg\n",
      "\n",
      "image 1/1 C:\\Users\\samue\\MotorcycleDetection-2\\test\\images\\Images_207_jpg.rf.db5d52d99284c67eb2ae4a3ee651e152.jpg: 640x640 (no detections), 16.8ms\n",
      "Speed: 5.6ms preprocess, 16.8ms inference, 2.4ms postprocess per image at shape (1, 3, 640, 640)\n",
      "Saved: C:/Users/samue/MotorcycleDetection-2/test/predicted\\Images_207_jpg.rf.db5d52d99284c67eb2ae4a3ee651e152.jpg\n",
      "\n",
      "image 1/1 C:\\Users\\samue\\MotorcycleDetection-2\\test\\images\\Images_210_jpg.rf.e4fbc27d5e04835d822685dfd4ce6501.jpg: 640x640 (no detections), 41.6ms\n",
      "Speed: 3.5ms preprocess, 41.6ms inference, 1.2ms postprocess per image at shape (1, 3, 640, 640)\n",
      "Saved: C:/Users/samue/MotorcycleDetection-2/test/predicted\\Images_210_jpg.rf.e4fbc27d5e04835d822685dfd4ce6501.jpg\n",
      "\n",
      "image 1/1 C:\\Users\\samue\\MotorcycleDetection-2\\test\\images\\Images_211_jpg.rf.c5dff7f09b8fc2253ca3583071a4881a.jpg: 640x640 (no detections), 16.7ms\n",
      "Speed: 6.4ms preprocess, 16.7ms inference, 1.5ms postprocess per image at shape (1, 3, 640, 640)\n",
      "Saved: C:/Users/samue/MotorcycleDetection-2/test/predicted\\Images_211_jpg.rf.c5dff7f09b8fc2253ca3583071a4881a.jpg\n",
      "\n",
      "image 1/1 C:\\Users\\samue\\MotorcycleDetection-2\\test\\images\\Images_212_jpg.rf.68aef21acf793b1676a0d41dd55e424e.jpg: 640x640 1 motorSport, 25.1ms\n",
      "Speed: 5.9ms preprocess, 25.1ms inference, 5.5ms postprocess per image at shape (1, 3, 640, 640)\n",
      "Saved: C:/Users/samue/MotorcycleDetection-2/test/predicted\\Images_212_jpg.rf.68aef21acf793b1676a0d41dd55e424e.jpg\n",
      "\n",
      "image 1/1 C:\\Users\\samue\\MotorcycleDetection-2\\test\\images\\Images_213_jpg.rf.e4f8a2289eb6ede127b923a8eb4f7f90.jpg: 640x640 (no detections), 20.8ms\n",
      "Speed: 4.3ms preprocess, 20.8ms inference, 1.6ms postprocess per image at shape (1, 3, 640, 640)\n",
      "Saved: C:/Users/samue/MotorcycleDetection-2/test/predicted\\Images_213_jpg.rf.e4f8a2289eb6ede127b923a8eb4f7f90.jpg\n",
      "\n",
      "image 1/1 C:\\Users\\samue\\MotorcycleDetection-2\\test\\images\\Images_219_jpg.rf.8d51e3025346f3be21eab84c764ba010.jpg: 640x640 (no detections), 20.6ms\n",
      "Speed: 3.7ms preprocess, 20.6ms inference, 2.1ms postprocess per image at shape (1, 3, 640, 640)\n",
      "Saved: C:/Users/samue/MotorcycleDetection-2/test/predicted\\Images_219_jpg.rf.8d51e3025346f3be21eab84c764ba010.jpg\n",
      "\n",
      "image 1/1 C:\\Users\\samue\\MotorcycleDetection-2\\test\\images\\Images_220_jpg.rf.a20377a0c89cf1e5e3aa2a1d3d856eab.jpg: 640x640 (no detections), 23.9ms\n",
      "Speed: 4.3ms preprocess, 23.9ms inference, 2.5ms postprocess per image at shape (1, 3, 640, 640)\n",
      "Saved: C:/Users/samue/MotorcycleDetection-2/test/predicted\\Images_220_jpg.rf.a20377a0c89cf1e5e3aa2a1d3d856eab.jpg\n",
      "\n",
      "image 1/1 C:\\Users\\samue\\MotorcycleDetection-2\\test\\images\\Images_223_jpg.rf.2ded0c5742984c7e154bee089f5e2f71.jpg: 640x640 (no detections), 18.1ms\n",
      "Speed: 3.5ms preprocess, 18.1ms inference, 3.0ms postprocess per image at shape (1, 3, 640, 640)\n",
      "Saved: C:/Users/samue/MotorcycleDetection-2/test/predicted\\Images_223_jpg.rf.2ded0c5742984c7e154bee089f5e2f71.jpg\n",
      "\n",
      "image 1/1 C:\\Users\\samue\\MotorcycleDetection-2\\test\\images\\Images_224_jpg.rf.f3c7507c6ae8d9cca8f1068d96a8ad71.jpg: 640x640 (no detections), 18.0ms\n",
      "Speed: 4.7ms preprocess, 18.0ms inference, 2.5ms postprocess per image at shape (1, 3, 640, 640)\n",
      "Saved: C:/Users/samue/MotorcycleDetection-2/test/predicted\\Images_224_jpg.rf.f3c7507c6ae8d9cca8f1068d96a8ad71.jpg\n",
      "\n",
      "image 1/1 C:\\Users\\samue\\MotorcycleDetection-2\\test\\images\\images_jpeg.rf.e3c2f91dcd4c295abc5ac4c4572eaeb1.jpg: 640x640 (no detections), 29.9ms\n",
      "Speed: 5.2ms preprocess, 29.9ms inference, 33.4ms postprocess per image at shape (1, 3, 640, 640)\n",
      "Saved: C:/Users/samue/MotorcycleDetection-2/test/predicted\\images_jpeg.rf.e3c2f91dcd4c295abc5ac4c4572eaeb1.jpg\n",
      "\n",
      "image 1/1 C:\\Users\\samue\\MotorcycleDetection-2\\test\\images\\Image_239_jpg.rf.341f6505de69643faa4dc1ea24fd9d0b.jpg: 640x640 (no detections), 21.7ms\n",
      "Speed: 4.8ms preprocess, 21.7ms inference, 1.8ms postprocess per image at shape (1, 3, 640, 640)\n",
      "Saved: C:/Users/samue/MotorcycleDetection-2/test/predicted\\Image_239_jpg.rf.341f6505de69643faa4dc1ea24fd9d0b.jpg\n",
      "\n",
      "image 1/1 C:\\Users\\samue\\MotorcycleDetection-2\\test\\images\\Image_245_jpg.rf.083ffd9cb65d4962c67e9be695daa1e0.jpg: 640x640 (no detections), 30.9ms\n",
      "Speed: 4.7ms preprocess, 30.9ms inference, 3.1ms postprocess per image at shape (1, 3, 640, 640)\n",
      "Saved: C:/Users/samue/MotorcycleDetection-2/test/predicted\\Image_245_jpg.rf.083ffd9cb65d4962c67e9be695daa1e0.jpg\n",
      "\n",
      "image 1/1 C:\\Users\\samue\\MotorcycleDetection-2\\test\\images\\Image_246_jpg.rf.6169d11d60607a42057959d92dd3983e.jpg: 640x640 (no detections), 26.3ms\n",
      "Speed: 4.0ms preprocess, 26.3ms inference, 2.5ms postprocess per image at shape (1, 3, 640, 640)\n",
      "Saved: C:/Users/samue/MotorcycleDetection-2/test/predicted\\Image_246_jpg.rf.6169d11d60607a42057959d92dd3983e.jpg\n",
      "\n",
      "image 1/1 C:\\Users\\samue\\MotorcycleDetection-2\\test\\images\\Image_247_jpg.rf.45e5412260d57d9abc2a4aff3d2c111a.jpg: 640x640 (no detections), 17.6ms\n",
      "Speed: 3.3ms preprocess, 17.6ms inference, 3.2ms postprocess per image at shape (1, 3, 640, 640)\n",
      "Saved: C:/Users/samue/MotorcycleDetection-2/test/predicted\\Image_247_jpg.rf.45e5412260d57d9abc2a4aff3d2c111a.jpg\n",
      "\n",
      "image 1/1 C:\\Users\\samue\\MotorcycleDetection-2\\test\\images\\Image_248_jpg.rf.456d4da7f3fbd03782c6d770acea3148.jpg: 640x640 (no detections), 18.7ms\n",
      "Speed: 3.9ms preprocess, 18.7ms inference, 2.5ms postprocess per image at shape (1, 3, 640, 640)\n",
      "Saved: C:/Users/samue/MotorcycleDetection-2/test/predicted\\Image_248_jpg.rf.456d4da7f3fbd03782c6d770acea3148.jpg\n",
      "\n",
      "image 1/1 C:\\Users\\samue\\MotorcycleDetection-2\\test\\images\\Image_250_jpg.rf.fb6196c38fd8e5052a5751fb6df887cf.jpg: 640x640 (no detections), 25.2ms\n",
      "Speed: 6.1ms preprocess, 25.2ms inference, 4.9ms postprocess per image at shape (1, 3, 640, 640)\n",
      "Saved: C:/Users/samue/MotorcycleDetection-2/test/predicted\\Image_250_jpg.rf.fb6196c38fd8e5052a5751fb6df887cf.jpg\n",
      "\n",
      "image 1/1 C:\\Users\\samue\\MotorcycleDetection-2\\test\\images\\Image_257_jpg.rf.d1dd001b8ba5805f08275ae80c052b83.jpg: 640x640 (no detections), 34.3ms\n",
      "Speed: 4.5ms preprocess, 34.3ms inference, 2.4ms postprocess per image at shape (1, 3, 640, 640)\n",
      "Saved: C:/Users/samue/MotorcycleDetection-2/test/predicted\\Image_257_jpg.rf.d1dd001b8ba5805f08275ae80c052b83.jpg\n",
      "\n",
      "image 1/1 C:\\Users\\samue\\MotorcycleDetection-2\\test\\images\\Image_258_jpg.rf.2479a5c99ecb0bf638368386b93777b9.jpg: 640x640 (no detections), 24.8ms\n",
      "Speed: 8.9ms preprocess, 24.8ms inference, 2.7ms postprocess per image at shape (1, 3, 640, 640)\n",
      "Saved: C:/Users/samue/MotorcycleDetection-2/test/predicted\\Image_258_jpg.rf.2479a5c99ecb0bf638368386b93777b9.jpg\n",
      "\n",
      "image 1/1 C:\\Users\\samue\\MotorcycleDetection-2\\test\\images\\Image_294_jpg.rf.922a6cd16b68b28f057b8c21f21c2f47.jpg: 640x640 (no detections), 22.7ms\n",
      "Speed: 4.4ms preprocess, 22.7ms inference, 1.4ms postprocess per image at shape (1, 3, 640, 640)\n",
      "Saved: C:/Users/samue/MotorcycleDetection-2/test/predicted\\Image_294_jpg.rf.922a6cd16b68b28f057b8c21f21c2f47.jpg\n",
      "\n",
      "image 1/1 C:\\Users\\samue\\MotorcycleDetection-2\\test\\images\\Image_295_jpg.rf.f3fe7addffe7cbdd2fad8b9fcf04b709.jpg: 640x640 (no detections), 20.6ms\n",
      "Speed: 4.1ms preprocess, 20.6ms inference, 3.4ms postprocess per image at shape (1, 3, 640, 640)\n",
      "Saved: C:/Users/samue/MotorcycleDetection-2/test/predicted\\Image_295_jpg.rf.f3fe7addffe7cbdd2fad8b9fcf04b709.jpg\n",
      "\n",
      "image 1/1 C:\\Users\\samue\\MotorcycleDetection-2\\test\\images\\Image_296_jpg.rf.df6df15f6e175eee3b917f45a73f346e.jpg: 640x640 (no detections), 23.0ms\n",
      "Speed: 3.8ms preprocess, 23.0ms inference, 2.9ms postprocess per image at shape (1, 3, 640, 640)\n",
      "Saved: C:/Users/samue/MotorcycleDetection-2/test/predicted\\Image_296_jpg.rf.df6df15f6e175eee3b917f45a73f346e.jpg\n",
      "\n",
      "image 1/1 C:\\Users\\samue\\MotorcycleDetection-2\\test\\images\\Image_297_jpg.rf.574af1dc5eb0f6923907628a29fb2db7.jpg: 640x640 (no detections), 15.8ms\n",
      "Speed: 4.1ms preprocess, 15.8ms inference, 3.1ms postprocess per image at shape (1, 3, 640, 640)\n",
      "Saved: C:/Users/samue/MotorcycleDetection-2/test/predicted\\Image_297_jpg.rf.574af1dc5eb0f6923907628a29fb2db7.jpg\n",
      "\n",
      "image 1/1 C:\\Users\\samue\\MotorcycleDetection-2\\test\\images\\Image_299_jpg.rf.3430c70893acc849d5fa88afee9388dd.jpg: 640x640 (no detections), 18.2ms\n",
      "Speed: 4.1ms preprocess, 18.2ms inference, 2.5ms postprocess per image at shape (1, 3, 640, 640)\n",
      "Saved: C:/Users/samue/MotorcycleDetection-2/test/predicted\\Image_299_jpg.rf.3430c70893acc849d5fa88afee9388dd.jpg\n",
      "\n",
      "image 1/1 C:\\Users\\samue\\MotorcycleDetection-2\\test\\images\\Image_300_jpg.rf.a63c976d71f847a8f1fb0bae1f2d915b.jpg: 640x640 (no detections), 15.4ms\n",
      "Speed: 3.9ms preprocess, 15.4ms inference, 2.8ms postprocess per image at shape (1, 3, 640, 640)\n",
      "Saved: C:/Users/samue/MotorcycleDetection-2/test/predicted\\Image_300_jpg.rf.a63c976d71f847a8f1fb0bae1f2d915b.jpg\n",
      "\n",
      "image 1/1 C:\\Users\\samue\\MotorcycleDetection-2\\test\\images\\Image_306_jpg.rf.09040e13a86de3ff3c2a08e8b569e90f.jpg: 640x640 (no detections), 19.0ms\n",
      "Speed: 4.9ms preprocess, 19.0ms inference, 1.9ms postprocess per image at shape (1, 3, 640, 640)\n",
      "Saved: C:/Users/samue/MotorcycleDetection-2/test/predicted\\Image_306_jpg.rf.09040e13a86de3ff3c2a08e8b569e90f.jpg\n",
      "\n",
      "image 1/1 C:\\Users\\samue\\MotorcycleDetection-2\\test\\images\\Image_315_jpg.rf.0e52a0d5d03224b47648474de4b7351e.jpg: 640x640 (no detections), 19.5ms\n",
      "Speed: 5.5ms preprocess, 19.5ms inference, 1.5ms postprocess per image at shape (1, 3, 640, 640)\n",
      "Saved: C:/Users/samue/MotorcycleDetection-2/test/predicted\\Image_315_jpg.rf.0e52a0d5d03224b47648474de4b7351e.jpg\n",
      "\n",
      "image 1/1 C:\\Users\\samue\\MotorcycleDetection-2\\test\\images\\Image_316_jpg.rf.ed665a9827ed0e606fe1a985926f3e64.jpg: 640x640 (no detections), 20.0ms\n",
      "Speed: 5.4ms preprocess, 20.0ms inference, 2.4ms postprocess per image at shape (1, 3, 640, 640)\n",
      "Saved: C:/Users/samue/MotorcycleDetection-2/test/predicted\\Image_316_jpg.rf.ed665a9827ed0e606fe1a985926f3e64.jpg\n",
      "\n",
      "image 1/1 C:\\Users\\samue\\MotorcycleDetection-2\\test\\images\\Image_317_jpg.rf.17fa9a9f254705ed882c0b59b5eca09c.jpg: 640x640 (no detections), 15.9ms\n",
      "Speed: 3.9ms preprocess, 15.9ms inference, 2.3ms postprocess per image at shape (1, 3, 640, 640)\n",
      "Saved: C:/Users/samue/MotorcycleDetection-2/test/predicted\\Image_317_jpg.rf.17fa9a9f254705ed882c0b59b5eca09c.jpg\n",
      "\n",
      "image 1/1 C:\\Users\\samue\\MotorcycleDetection-2\\test\\images\\Image_93_jpg.rf.2cf5499a8b54211c0066ffdafb99cbe4.jpg: 640x640 (no detections), 18.3ms\n",
      "Speed: 4.9ms preprocess, 18.3ms inference, 5.1ms postprocess per image at shape (1, 3, 640, 640)\n",
      "Saved: C:/Users/samue/MotorcycleDetection-2/test/predicted\\Image_93_jpg.rf.2cf5499a8b54211c0066ffdafb99cbe4.jpg\n"
     ]
    }
   ],
   "source": [
    "from ultralytics import YOLO\n",
    "import os\n",
    "import cv2\n",
    "import matplotlib.pyplot as plt\n",
    "\n",
    "# Load model terbaik hasil training\n",
    "model = YOLO('runs/detect/motorcycle-yolo12/weights/best.pt')\n",
    "\n",
    "# Path ke folder gambar yang ingin dideteksi\n",
    "image_folder = \"C:/Users/samue/MotorcycleDetection-2/test/images\"\n",
    "output_folder = \"C:/Users/samue/MotorcycleDetection-2/test/predicted\"\n",
    "os.makedirs(output_folder, exist_ok=True)\n",
    "\n",
    "# Loop semua file gambar\n",
    "image_files = [f for f in os.listdir(image_folder) if f.endswith(('.jpg', '.png', '.jpeg'))]\n",
    "\n",
    "for image_name in image_files:\n",
    "    image_path = os.path.join(image_folder, image_name)\n",
    "\n",
    "    # Deteksi menggunakan YOLOv8\n",
    "    results = model(image_path, save=False)\n",
    "\n",
    "    # Simpan hasil deteksi (gambar dengan bounding box)\n",
    "    annotated_frame = results[0].plot()\n",
    "    save_path = os.path.join(output_folder, image_name)\n",
    "    cv2.imwrite(save_path, annotated_frame)\n",
    "\n",
    "    print(f\"Saved: {save_path}\")\n"
   ]
  },
  {
   "cell_type": "code",
   "execution_count": 6,
   "metadata": {},
   "outputs": [
    {
     "name": "stdout",
     "output_type": "stream",
     "text": [
      "Ultralytics 8.3.158  Python-3.10.18 torch-2.7.1+cu118 CUDA:0 (NVIDIA GeForce RTX 3050 Laptop GPU, 4096MiB)\n",
      "Model summary (fused): 72 layers, 3,006,623 parameters, 0 gradients, 8.1 GFLOPs\n",
      "\u001b[34m\u001b[1mval: \u001b[0mFast image access  (ping: 0.10.0 ms, read: 75.714.1 MB/s, size: 45.5 KB)\n"
     ]
    },
    {
     "name": "stderr",
     "output_type": "stream",
     "text": [
      "\u001b[34m\u001b[1mval: \u001b[0mScanning C:\\Users\\samue\\MotorcycleDetection-2\\val\\labels.cache... 219 images, 0 backgrounds, 0 corrupt: 100%|██████████| 219/219 [00:00<?, ?it/s]\n",
      "                 Class     Images  Instances      Box(P          R      mAP50  mAP50-95): 100%|██████████| 14/14 [00:08<00:00,  1.59it/s]\n"
     ]
    },
    {
     "name": "stdout",
     "output_type": "stream",
     "text": [
      "                   all        219        219    0.00186       0.78     0.0783     0.0508\n",
      "            motorBebek        110        110    0.00206      0.636    0.00172   0.000365\n",
      "          motorListrik          1          1   0.000711          1    0.00716    0.00369\n",
      "            motorMatic        108        108    0.00282      0.704      0.226      0.148\n",
      "Speed: 1.5ms preprocess, 13.8ms inference, 0.0ms loss, 6.9ms postprocess per image\n",
      "Results saved to \u001b[1mruns\\detect\\val\u001b[0m\n"
     ]
    }
   ],
   "source": [
    "# 6. (Opsional) Evaluasi dan Prediksi\n",
    "metrics = model.val()  # evaluasi pada validation set\n"
   ]
  },
  {
   "cell_type": "code",
   "execution_count": 16,
   "metadata": {},
   "outputs": [],
   "source": [
    "save=True,  # default True\n",
    "save_period=-1,  # hanya simpan model terbaik (tidak simpan tiap epoch)\n"
   ]
  },
  {
   "cell_type": "code",
   "execution_count": 5,
   "metadata": {},
   "outputs": [
    {
     "name": "stdout",
     "output_type": "stream",
     "text": [
      "Label kelas: {0: 'motorBebek', 1: 'motorListrik', 2: 'motorMatic', 3: 'motorSport', 4: 'motorTrail'}\n",
      "Jumlah kelas: 5\n",
      "Struktur model:\n",
      "Model summary: 129 layers, 3,011,823 parameters, 0 gradients, 8.2 GFLOPs\n"
     ]
    },
    {
     "data": {
      "text/plain": [
       "(129, 3011823, 0, 8.1984512)"
      ]
     },
     "execution_count": 5,
     "metadata": {},
     "output_type": "execute_result"
    }
   ],
   "source": [
    "from ultralytics import YOLO\n",
    "\n",
    "model = YOLO(\"runs/detect/motorcycle-yolo12/weights/best.pt\")  # Pastikan ini file yang kamu upload\n",
    "\n",
    "# Tampilkan info tentang model\n",
    "print(\"Label kelas:\", model.names)\n",
    "print(\"Jumlah kelas:\", model.model.nc)\n",
    "print(\"Struktur model:\")\n",
    "model.info()"
   ]
  },
  {
   "cell_type": "code",
   "execution_count": null,
   "metadata": {
    "id": "O_Fm4GrCtmG_"
   },
   "outputs": [],
   "source": []
  },
  {
   "cell_type": "code",
   "execution_count": null,
   "metadata": {
    "id": "BvOqY2uvITII"
   },
   "outputs": [],
   "source": []
  }
 ],
 "metadata": {
  "accelerator": "GPU",
  "colab": {
   "gpuType": "T4",
   "provenance": []
  },
  "kernelspec": {
   "display_name": "Python (YOLOv8)",
   "language": "python",
   "name": "yolov8env"
  },
  "language_info": {
   "codemirror_mode": {
    "name": "ipython",
    "version": 3
   },
   "file_extension": ".py",
   "mimetype": "text/x-python",
   "name": "python",
   "nbconvert_exporter": "python",
   "pygments_lexer": "ipython3",
   "version": "3.10.18"
  }
 },
 "nbformat": 4,
 "nbformat_minor": 4
}
